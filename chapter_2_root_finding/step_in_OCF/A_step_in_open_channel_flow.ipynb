{
 "cells": [
  {
   "cell_type": "markdown",
   "metadata": {},
   "source": [
    "# A step in open channel flow\n",
    "\n",
    "by Xiaofeng Liu, Ph.D., P.E.\n",
    "Associate Professor\n",
    "\n",
    "Department of Civil and Environmental Engineering\n",
    "\n",
    "Institute of Computational and Data Sciences\n",
    "\n",
    "Penn State University\n",
    "\n",
    "223B Sackett Building, University Park, PA 16802\n",
    "\n",
    "Web: http://water.engr.psu.edu/liu/\n",
    "\n",
    "-------------------------------------------------"
   ]
  },
  {
   "cell_type": "code",
   "execution_count": 2,
   "metadata": {},
   "outputs": [],
   "source": [
    "#Do not change this cell. It is for setting things up.\n",
    "\n",
    "#make plots inline\n",
    "%matplotlib inline\n",
    "\n",
    "#import the preamble in the parent directory\n",
    "import sys\n",
    "sys.path.append(\"../../\")\n",
    "from preamble import *"
   ]
  },
  {
   "cell_type": "code",
   "execution_count": 3,
   "metadata": {},
   "outputs": [
    {
     "data": {
      "application/javascript": [
       "MathJax.Hub.Config({\n",
       "    TeX: { equationNumbers: { autoNumber: \"AMS\" } }\n",
       "});\n"
      ],
      "text/plain": [
       "<IPython.core.display.Javascript object>"
      ]
     },
     "metadata": {},
     "output_type": "display_data"
    }
   ],
   "source": [
    "%%javascript\n",
    "MathJax.Hub.Config({\n",
    "    TeX: { equationNumbers: { autoNumber: \"AMS\" } }\n",
    "});"
   ]
  },
  {
   "cell_type": "markdown",
   "metadata": {},
   "source": [
    "## Introduction\n",
    "\n",
    "In open channels, such as rivers and streams, when a step is installed, the hydraulics of the channel at the step will be changed. An example of a step in open channels is a sill used for erosion control or prevent the propogation of salt wedge from the ocean to the upstream of a river. We can use simple conservation laws to analyze the hydraulics. In its simnple form, the concept of specific energy can be used. \n",
    "\n",
    "The problem is defined as in the following figure. The channel has uniform width $b$ and the step height is $\\Delta z$. The incoming flow at cross section 1 has a velocity of $V_1$ and depth of $y_1$. An important engineering question is what the water depth $y_2$ and velocity $V_2$ at the step. In this example, we will not go to the details of the hydraulics theory. Interested readers can find sucn information in any open channel hydraulics textbook. \n",
    "\n",
    "We will apply both conservation of mass and energy. First, based on conservation of mass between cross sections 1 and 2, we can write\n",
    "\\begin{equation}\n",
    "V_1 y_1 b = V_2 y_2 b\n",
    "\\end{equation}\n",
    "Also, from conservation of energy (ignore any energy loss), we have\n",
    "\\begin{equation}\n",
    "y_1 + \\frac{V_1^2}{2g} = y_2 + \\frac{V_2^2}{2g} + \\Delta Z\n",
    "\\end{equation}\n",
    "where $\\Delta Z$ is height of the step. In the previous two equations, we only have two unknowns, i.e., $y_2$ and $V_2$. Everything else are given. So the problem can be solved. Solve for $y_2$, we can get the following equation:\n",
    "\\begin{equation}\n",
    "y_2^3 - \\left[ y_1 + \\frac{V_1^2}{2g}-\\Delta z \\right] y_2^2 + \\frac{V_1^2 y_1^2}{2g} = 0\n",
    "\\end{equation}\n",
    "This is a third-order polynomial for $y_2$ and it can be solved numerically. In fact, if the step height $\\Delta z$ is not too large, there are three roots, of which two are positive. In real world, we can only have one water depth at the step. So the selection of the positive root depends on whether the flow subcritical or critical. If it subcritical, pick the large positive root; otherwise, pick the smaller positive root. The specific energy diagram below clearly shows this. In the figure, we assume the flow is subcritical such that we are on the upper branch of the specific energy curve. With a step, the point (cross-section 1) on the curve will move down the upper curve to the left and thus the water depth will decrease at the step (cross-section 2).\n",
    "\n",
    "<img src=\"step_in_OCF.png\" width=\"600\"/>\n",
    "<h3 align=\"center\">Figure. A step in an open channel.</h3> \n",
    "\n",
    "In the following, we will implement the above analysis with Python code. We assume the step height $\\Delta z$ is sufficiently small. "
   ]
  },
  {
   "cell_type": "code",
   "execution_count": 25,
   "metadata": {},
   "outputs": [
    {
     "name": "stdout",
     "output_type": "stream",
     "text": [
      "The Froude number at cross section 1 =  0.06\n",
      "Water depth at the step y2 =  0.8995  m.\n",
      "Done!\n"
     ]
    }
   ],
   "source": [
    "from scipy import optimize\n",
    "import numpy as np\n",
    "\n",
    "#define the function\n",
    "def f(y2,y1,V1,deltaZ):\n",
    "    return y2**3-(y1+V1**2/2.0/9.8-deltaZ)*y2**2+V1**2*y1**2/2.0/9.8\n",
    "         \n",
    "    \n",
    "#define parameters for the problem\n",
    "y1 = 1  #water depth at cross section 1\n",
    "V1 = 0.2  #mean velocity at cross section 1\n",
    "deltaZ = 0.1 #step height\n",
    "    \n",
    "#directly call SciPy optimize's newton method\n",
    "y2=optimize.newton(f,  y1, args=(y1,V1,deltaZ,))      # starting point x0 = 2\n",
    "\n",
    "#print out the solution\n",
    "print(\"The Froude number at cross section 1 = \", round(V1/np.sqrt(9.8*y1),2))\n",
    "print(\"Water depth at the step y2 = \", round(y2,4), \" m.\")\n",
    "\n",
    "print(\"Done!\")\n"
   ]
  },
  {
   "cell_type": "markdown",
   "metadata": {},
   "source": [
    "The above analysis and code assume the step size $\\Delta z$ is not that large. But how large is large? What if the step gets really large? In reality, if $\\Delta z$ is larger than certain threshold $\\Delta z_{max}$, the upstream flow will be \"backed up\", thereby increasing its specific energy from $E_1$ to $E_1^*$. This situation is also called \"choking\". The new $E_1^*$ will be just enough to accomndate the bump, i.e., the flow over the bump will be exactly critical ($y_2=y_c$). At critical flow condition, $E_2=E_{min}$. Thus, $E_1^*=E_{min}+\\Delta z$. For a rectangular channel, the mininum specific energy can be calcuated as \n",
    "\\begin{equation}\n",
    "E_{min} = \\frac{3}{2} \\left(\\frac{q^2}{g} \\right)^{1/3}\n",
    "\\end{equation}\n",
    "where $q$ is the specific discharge defined as $Vy$. For a rectangular channel with constant width, the specific discharge does not change along the channel due to mass conservation. \n",
    "\n",
    "At the threshold condition, the maximum step height is then \n",
    "\\begin{equation}\n",
    "\\Delta z_{max} = E_1 - E_{min}\n",
    "\\end{equation}\n",
    "\n",
    "So for a given inflow condition, the $\\Delta z_{max}$ is firstl calculated and whether the step will choke the flow will checked. If not, the calculation will be similar as the previous example. If choked, then the flow status at the first cross section will be adjusted and the the flow is critical the step. The adjusted the flow depth and velocity can be calculated as follows. The adjusted specific energy at cross section 1 is \n",
    "\\begin{equation}\n",
    "E_1^* = E_{min} + \\Delta z\n",
    "\\end{equation}\n",
    "From definition, we also have\n",
    "\\begin{equation}\n",
    "y_1^* + \\frac{V_1^{*2}}{2g} = E_1^*\n",
    "\\end{equation}\n",
    "The adjusted upstream flow still obeys the mass of conservatino law, thus\n",
    "\\begin{equation}\n",
    "V_1^*y_1^* = V_1 y_1\n",
    "\\end{equation}\n",
    "In the previous two equations, the only two unknonws are $V_1^*$ and $y_1^*$. As before, we can eleminate one of the two unknowns and sovle for the other. As a result, we can solve for $y_1^*$ by finding the roots of the following equation\n",
    "\\begin{equation}\n",
    "y_1^{*3} - E_1^* y_1^{*,2} + \\frac{V_1^2 y_1^2}{2g} = 0\n",
    "\\end{equation}\n",
    "\n",
    "\n",
    "\n",
    "The following Python code implements the algorithm described above. "
   ]
  },
  {
   "cell_type": "code",
   "execution_count": 43,
   "metadata": {},
   "outputs": [
    {
     "name": "stdout",
     "output_type": "stream",
     "text": [
      "deltaZmax,deltaZ =  0.389 0.5\n",
      "Flow is choked.\n",
      "The Froude number at cross section 1 =  0.25\n",
      "Water depth at the step y2 =  0.3596  m.\n",
      "New water depth at section 1 is y1star =  1.0169  m.\n",
      "Done!\n"
     ]
    }
   ],
   "source": [
    "from scipy import optimize\n",
    "import numpy as np\n",
    "\n",
    "#define the function if not choked\n",
    "def f(y2,y1,V1,deltaZ):\n",
    "    return y2**3-(y1+V1**2/2.0/9.8-deltaZ)*y2**2+V1**2*y1**2/2.0/9.8\n",
    "\n",
    "#define the function if choked\n",
    "def f_choked(y1star,y1,V1,E1star):\n",
    "    return y1star**3-E1star*y1star**2+V1**2*y1**2/2.0/9.8\n",
    "\n",
    "    \n",
    "#define parameters for the problem\n",
    "y1 = 0.9  #water depth at cross section 1\n",
    "V1 = 0.75  #mean velocity at cross section 1\n",
    "deltaZ = 0.5 #step height\n",
    "\n",
    "#specific discharge\n",
    "q = y1*V1\n",
    "\n",
    "#critcial depth\n",
    "yc = (q**2/9.8)**(1.0/3.0)\n",
    "\n",
    "#calcuate E_min\n",
    "Emin=3.0/2.0*(q**2/9.8)**(1.0/3.0)\n",
    "#print(\"Emin = \", Emin)\n",
    "\n",
    "#calculate E1\n",
    "E1 = y1 + V1**2/2/9.8\n",
    "#print(\"E1 = \", E1)\n",
    "\n",
    "#calculate deltaZmax\n",
    "deltaZmax = E1 - Emin\n",
    "\n",
    "print(\"deltaZmax,deltaZ = \", round(deltaZmax,3),deltaZ)\n",
    "\n",
    "#check choking or not\n",
    "if deltaZ < deltaZmax: \n",
    "    print(\"Flow is not choked.\")\n",
    "    #directly call SciPy optimize's newton method\n",
    "    y2=optimize.newton(f,  y1, args=(y1,V1,deltaZ,))      # starting point x0 = 2\n",
    "\n",
    "    #print out the solution\n",
    "    print(\"The Froude number at cross section 1 = \", round(V1/np.sqrt(9.8*y1),2))\n",
    "    print(\"Water depth at the step y2 = \", round(y2,4), \" m.\")\n",
    "    \n",
    "else:\n",
    "    print(\"Flow is choked.\")\n",
    "    \n",
    "    #flow at the step is critical\n",
    "    y2=yc\n",
    "    \n",
    "    #new specific energy at the upstream cross section 1\n",
    "    E1star = Emin + deltaZ\n",
    "    #print(\"E1star = \", E1star)    \n",
    "    \n",
    "    #call SciPy optimize's newton method\n",
    "    y1star=optimize.newton(f_choked, 1, args=(y1,V1,E1star))\n",
    "    \n",
    "    #print out the solution\n",
    "    print(\"The Froude number at cross section 1 = \", round(V1/np.sqrt(9.8*y1),2))\n",
    "    print(\"Water depth at the step y2 = \", round(y2,4), \" m.\")\n",
    "    print(\"New water depth at section 1 is y1star = \", round(y1star,4), \" m.\")\n",
    "\n",
    "\n",
    "print(\"Done!\")"
   ]
  },
  {
   "cell_type": "code",
   "execution_count": null,
   "metadata": {},
   "outputs": [],
   "source": []
  }
 ],
 "metadata": {
  "kernelspec": {
   "display_name": "Python 3",
   "language": "python",
   "name": "python3"
  },
  "language_info": {
   "codemirror_mode": {
    "name": "ipython",
    "version": 3
   },
   "file_extension": ".py",
   "mimetype": "text/x-python",
   "name": "python",
   "nbconvert_exporter": "python",
   "pygments_lexer": "ipython3",
   "version": "3.7.3"
  }
 },
 "nbformat": 4,
 "nbformat_minor": 2
}
