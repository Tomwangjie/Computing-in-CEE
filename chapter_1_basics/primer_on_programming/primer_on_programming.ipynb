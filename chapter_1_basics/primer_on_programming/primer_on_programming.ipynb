{
 "cells": [
  {
   "cell_type": "markdown",
   "metadata": {},
   "source": [
    "# A primer on programming\n",
    "\n",
    "by Xiaofeng Liu, Ph.D., P.E.\n",
    "Associate Professor\n",
    "\n",
    "Department of Civil and Environmental Engineering\n",
    "\n",
    "Institute of Computational and Data Sciences\n",
    "\n",
    "Penn State University\n",
    "\n",
    "223B Sackett Building, University Park, PA 16802\n",
    "\n",
    "Web: http://water.engr.psu.edu/liu/\n",
    "\n",
    "---------------------------------------------------"
   ]
  },
  {
   "cell_type": "code",
   "execution_count": null,
   "metadata": {},
   "outputs": [],
   "source": [
    "#Do not change this cell and the next one. They are for setting things up.\n",
    "\n",
    "#make plots inline (instead of as a pop up window)\n",
    "%matplotlib inline\n",
    "\n",
    "#import the preamble in the parent directory\n",
    "import sys\n",
    "sys.path.append(\"../../\")\n",
    "from preamble import *\n",
    "\n",
    "from IPython.display import display, HTML"
   ]
  },
  {
   "cell_type": "markdown",
   "metadata": {},
   "source": [
    "The following is for the setup of writing equations with Latex."
   ]
  },
  {
   "cell_type": "code",
   "execution_count": null,
   "metadata": {},
   "outputs": [],
   "source": [
    "%%javascript\n",
    "MathJax.Hub.Config({\n",
    "    TeX: { equationNumbers: { autoNumber: \"AMS\" } }\n",
    "});"
   ]
  },
  {
   "cell_type": "markdown",
   "metadata": {},
   "source": [
    "This part provides a quick general introduction to programming. Programming itself is a very broad term and there are many different aspects and approaches to design and write a computer program. Again, the purpose here is not to make you an expert programmer. Instead, the goal is to introduce some basic terms and methods to write better Python code to implement the computing algorithms introduced in this book. \n",
    "\n",
    "## How is a computer program made?\n",
    "\n",
    "As you probably already notices, this book uses the terms \"program\", \"code\", and \"application software\" interchangeably. So how is a program/code/application made? The answer is very obvious. We, humans, write a computer program's source code using high-level computer language. The source code is usually easily understandable by humans. To be understandable, the source code is typically based on words and phrases from a human language such as English. Examples of high-level languages include Python, C/C++, Fortran, Matlab, etc.\n",
    "\n",
    "For example, the following is a simple snippet of Python code which is easy to understand even if you don't have any knowledge about Python. The code simply assigns 5 to the variable a, 7 to b, and adds a and b together and assigns the results to variable c. Next, the code define a list named \"weather\" of different weather. At the end, the code loops through all elements of \"weather\" and print out the content. \n",
    "\n",
    "```python\n",
    "a = 5\n",
    "b = 7\n",
    "c = a + b\n",
    "weather = [\"rain\",\"cloudy\",\"sunny\",\"windy\"]\n",
    "for x in weather:\n",
    "    print(x)\n",
    "```\n",
    "\n",
    "In the following cell, you can run the code (select the cell and press \"Shift + Enter\") and see the output. "
   ]
  },
  {
   "cell_type": "code",
   "execution_count": null,
   "metadata": {},
   "outputs": [],
   "source": [
    "a = 5\n",
    "b = 7\n",
    "c = a + b\n",
    "weather = [\"rain\",\"cloudy\",\"sunny\",\"windy\"]\n",
    "for x in weather:\n",
    "    print(x)"
   ]
  },
  {
   "cell_type": "markdown",
   "metadata": {},
   "source": [
    "But a computer is a machine which does not understand high-level language. It only understands binary machine code in 0's and 1's. How to bridge the two? The answer is a translator, whoes functionality is to translate high-level source code written by programmers to low-level machine code so a computer can understand and execute. \n",
    "\n",
    "There are two types of such translator: compiler and interpreter. We will examine each of them in the next. \n",
    "\n",
    "### Compiler\n",
    "The following figure shows how a compiler works. A compiler typically works in two stages. For the first stage, a compiler reads in all source files for a particular program and converts them into machine code stored in seperate files (called object files by many compilers). For the second stage, the compiler (\"linker\") links the object files, as well as any used external libraries, and generate the final machine code. The final product could be an \"exe\" file or a dynamically linked library (if in Windows), or simply a library (if in other operating systems). Example compilers include gcc, gfortran, Intel C/C++/Fortran, etc. \n",
    "\n",
    "<img src=\"compiler.png\" width=\"500\"/>\n",
    "<h3 align=\"center\">Figure. How a compiler works.</h3> \n",
    "\n",
    "### Interpreter\n",
    "The following figure shows how an interpreter works. From the point of view of a programmer, it looks much simpler (although what is behind the scene and the functionality are not that different from a compiler). Generally speaking, an interpreter reads and executes one line of source code at a time. A prominant example of an interpreter is of course Python. \n",
    "\n",
    "<img src=\"interpreter.png\" width=\"500\"/>\n",
    "<h3 align=\"center\">Figure. How an interpreter works.</h3> \n",
    "\n",
    "### Comparison between compiler and interpreter\n",
    "There are pros and cons for both translators. The following table compares the two translators. In general, interpreter is easy to use. A programmer only needs to type the code and directly execute to see the result. The price to pay is that usually an interpreter is slower than a compiler generated machine code. So an interpreter-based language like Python is suitable for quick prototyping. If computing efficiency is of critical importance, a compiler-based language might be a better choice. This statement might not 100\\% correct because some of the low level functions and libraries in Python are written in compiler-based languages, such as C. Most of the computing intensive part and functions might have already been compiled and optimized into binary machine code with a compiler before your Python code calls them. In this book, the emphasis is algorithms. Computing efficiency is not of the first priority (does not mean it is not important). Thus, it is sufficient to know the difference and relationship between compiler and interpreter. \n",
    "\n",
    "| Compiler      | Interpreter  |\n",
    "| :---:          |        :---: |\n",
    "| Read and convert the entire source code into machine code     | Read and execute the source one line at a time   |\n",
    "| The compiled machine code runs faster| The overall execution is slow|\n",
    "| Generate intermediate object files which can be directly executed or used for linking to other object files or libraries| Does not generate intermediate object files |\n",
    "| Generate a standalone executable code such as \"xxx.exe\" and then the source code is not needed for execution | Does not generate a standalone executable code and the source code is needed to run the code every time|\n",
    "| Example languages: C, C++, and Fortran | Example languages: Python and Matlab|\n",
    "\n"
   ]
  },
  {
   "cell_type": "markdown",
   "metadata": {},
   "source": [
    "## How to write a computer program?\n",
    "\n",
    "When design and write a program, you basically are implementing certain algorithm to achieve some functionalities, e.g. find the roots of an algebraic equation or solving an ODE. An algorithm is defined as a sequence of instructions for the computer. There are formal definitions and theories in computer science for algorithms. It is beyond the scope (and not that necessary) to cover algorithms in this book. For our purpose, it is sufficient to know that an algorithm is like: first do this, and then that; if something happens, then do this; otherwise, do that; etc. \n",
    "\n",
    "The instruction sequence of an algorithm is usually expressed diagrammatically as a flowchart. Before you write your code, it is wise to think through the whole algorithm and maybe sketch a flowchart. Again, there are formal definitions on the shapes of different blocks in a algorithm flowchart, which do not introduce here. \n",
    "\n",
    "When algorithm is designed and flowchart is drawn, they should be computer language independent. They should only specify the logic and flow. An algorithm can be implemented with different languages.\n",
    "\n",
    "For demonstration, two examples are shown in the following. These examples do not have too much real value for application. However, they reflect the main idea of algorithm design and implementation, which we will use for the rest of the book. The first example is to calculate the absolute value of the difference between two numbers specified by user. In this case, we first define some variables to store values. Then, ask the user to input two numbers and read in and assign to the defined variables. Next, calculate the difference and its absolute value. At last, print the result to the screen so the user of the code can see it. In the figure below, the flowchart is on the left and its Python implementation is on the right. \n",
    "\n",
    "<img src=\"flowchart_diff_abs.png\" width=\"800\"/>\n",
    "<h3 align=\"center\">Figure. Flow chart and Python implementation for the calcualtion of the absolute value of the difference between two numbers specified by user.</h3> \n",
    "\n",
    "You can try the Python code in the following cell to see it in action."
   ]
  },
  {
   "cell_type": "code",
   "execution_count": null,
   "metadata": {},
   "outputs": [],
   "source": [
    "#declare and initialize variables\n",
    "num1 = 0.0\n",
    "num2 = 0.0\n",
    "diff_abs = 0.0\n",
    "\n",
    "#read in num1 and num2 from the user and co\n",
    "num1 = float(input(\"enter first number: \"))\n",
    "num2 = float(input(\"enter second number: \"))\n",
    "\n",
    "#calcualte the abs(diff)\n",
    "diff_abs = abs(num1 - num2)\n",
    "\n",
    "#print to screen\n",
    "print(\"The absolute value of the difference \\\n",
    "       between the two numbers: \",diff_abs)"
   ]
  },
  {
   "cell_type": "markdown",
   "metadata": {},
   "source": [
    "The second example is to calculate the summation of all positive integer numbers less than 100. Again in the following figure, the flow chart is on the left and the Python implementation is on the right. The algorithm goes like this. First we declare and initialize variables: the loop variable $i$ and the sum. Then, start the loop from $i$ = 0 to 99 and at each loop step add the integer number to the sum. At the end, print the resulted sum to the screen.\n",
    "\n",
    "<img src=\"flowchart_sum_100.png\" width=\"800\"/>\n",
    "<h3 align=\"center\">Figure. Flow chart and Python implementation for the calcualtion of the summation of all positive integer numbers less than 100.</h3> \n",
    "\n",
    "You can try the Python code in the following cell to see how it works. "
   ]
  },
  {
   "cell_type": "code",
   "execution_count": null,
   "metadata": {},
   "outputs": [],
   "source": [
    "#declare and initialize variables\n",
    "i = 0\n",
    "sum = 0\n",
    "\n",
    "#loop over all positive integers less than 100\n",
    "while i < 100:\n",
    "    sum = sum + i\n",
    "    i = i + 1\n",
    "    \n",
    "#print to screen\n",
    "print(\"The summation of all positive integers less than 100 is: \", sum)"
   ]
  },
  {
   "cell_type": "code",
   "execution_count": null,
   "metadata": {},
   "outputs": [],
   "source": []
  }
 ],
 "metadata": {
  "kernelspec": {
   "display_name": "Python 3",
   "language": "python",
   "name": "python3"
  },
  "language_info": {
   "codemirror_mode": {
    "name": "ipython",
    "version": 3
   },
   "file_extension": ".py",
   "mimetype": "text/x-python",
   "name": "python",
   "nbconvert_exporter": "python",
   "pygments_lexer": "ipython3",
   "version": "3.7.3"
  }
 },
 "nbformat": 4,
 "nbformat_minor": 1
}
