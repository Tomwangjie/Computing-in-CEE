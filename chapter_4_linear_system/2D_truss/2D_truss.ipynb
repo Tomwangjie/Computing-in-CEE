{
 "cells": [
  {
   "cell_type": "markdown",
   "metadata": {},
   "source": [
    "# 2D truss\n",
    "\n",
    "by Xiaofeng Liu, Ph.D., P.E.  \n",
    "Associate Professor\n",
    "\n",
    "Department of Civil and Environmental Engineering  \n",
    "Institute of Computational and Data Sciences  \n",
    "Penn State University  \n",
    "223B Sackett Building, University Park, PA 16802\n",
    "\n",
    "Web: http://water.engr.psu.edu/liu/"
   ]
  },
  {
   "cell_type": "markdown",
   "metadata": {},
   "source": [
    "As shown in the introduction of this chapter, we can use linear equation systems to represent the force balance in each beams and joints of a truss system. As a result of the force balance in each of these, we have the following linear equation system:\n",
    "\\begin{equation}\n",
    "\\begin{bmatrix}\n",
    "1 & 0 & -1/\\sqrt{2} & -1 & 0 & 0 & 0 & 0 & 0 & 0 & 0 & 0 \\\\\n",
    "0 & 1 & -1/\\sqrt{2} & 0  & 0 & 0 & 0 & 0 & 0 & 0 & 0 & 0 \\\\\n",
    "0 & 0 & 1/\\sqrt{2} & 0 & 0 & 0 & -1 & 0 & 0 & 0 & 0 & 0 \\\\\n",
    "0 & 0 & 1/\\sqrt{2} & 0 & 1 & 0 & 0 & 0 & 0 & 0 & 0 & 0 \\\\\n",
    "0 & 0 & 0 & 1  & 0 & -1 & 0& 0 & 0 & 0 & 0 & 0 \\\\\n",
    "0 & 0 & 0 & 0  & -1 & 0& 0 & 0 & 0 & 0 & 0 & 0 \\\\\n",
    "0 & 0 & 0 & 0  & 0 & 0 & 1 & 0 &-1 & 0 & 0 & 0 \\\\\n",
    "0 & 0 & 0 & 0  & 0 & 0 & 0 & 1 & 0 & 0 & 0 & 0 \\\\\n",
    "0 & 0 & 0 & 0  & 0 & 1 & 0 & 0 & 0 & -1/\\sqrt{2} & 0 & 0 \\\\\n",
    "0 & 0 & 0 & 0  & 0 & 0 & 0 &-1 & 0 & -1/\\sqrt{2} & 0 & 0 \\\\\n",
    "0 & 0 & 0 & 0  & 0 & 0 & 0 & 0 & 1 & 1/\\sqrt{2} & 1 & 0 \\\\\n",
    "0 & 0 & 0 & 0  & 0 & 0 & 0 & 0 & 0 & 1/\\sqrt{2} & 0 & 1 \n",
    "\\end{bmatrix}\n",
    "\\begin{bmatrix}\n",
    "R_A \\\\\n",
    "N_A \\\\ \n",
    "f_1 \\\\ \n",
    "f_2 \\\\ \n",
    "f_3 \\\\ \n",
    "f_4 \\\\ \n",
    "f_5 \\\\ \n",
    "f_6 \\\\ \n",
    "f_7 \\\\ \n",
    "f_8 \\\\ \n",
    "R_F \\\\ \n",
    "N_F \n",
    "\\end{bmatrix}\n",
    "=\n",
    "\\begin{bmatrix}\n",
    "0\\\\\n",
    "0\\\\\n",
    "0\\\\\n",
    "0\\\\\n",
    "0\\\\\n",
    "F_C\\\\\n",
    "0\\\\\n",
    "0\\\\\n",
    "0\\\\\n",
    "F_E\\\\\n",
    "0\\\\\n",
    "0\n",
    "\\end{bmatrix}\n",
    "\\end{equation}\n",
    "The matrix on the left is $12 \\times 12$ because of we have 12 unknowns and the right hand side is the load vector which only involves the loading at joints $C$ and $E$. Solving this linear equation system will give the 12 unknown forces. \n",
    "\n",
    "<img src=\"truss_example.png\" width=\"300\"/>\n",
    "<h3 align=\"center\">Figure. Forces in truss problem.</h3> \n",
    "\n",
    "In the following code, we use Python library functions to solve the truss problem shown above. The following values are used for the load:\n",
    "\\begin{equation}\n",
    "F_C = 1,000 N, \\quad F_E = 2,000 N\n",
    "\\end{equation}\n"
   ]
  },
  {
   "cell_type": "code",
   "execution_count": 2,
   "metadata": {},
   "outputs": [
    {
     "name": "stdout",
     "output_type": "stream",
     "text": [
      "solution x =  [-1000.          1000.          1414.21356237 -2000.\n",
      " -1000.         -2000.          1000.             0.\n",
      "  1000.         -2828.42712475  1000.          2000.        ]\n"
     ]
    }
   ],
   "source": [
    "import numpy as np\n",
    "\n",
    "A = np.zeros((12,12))\n",
    "A[0,0] = 1\n",
    "A[0,2] = -1/np.sqrt(2)\n",
    "A[0,3] = -1\n",
    "A[1,1] = 1\n",
    "A[1,2] = -1/np.sqrt(2)\n",
    "A[2,2] = 1/np.sqrt(2)\n",
    "A[2,6] = -1\n",
    "A[3,2] = 1/np.sqrt(2)\n",
    "A[3,4] = 1\n",
    "A[4,3] = 1\n",
    "A[4,5] = -1\n",
    "A[5,4] = -1\n",
    "A[6,6] = 1\n",
    "A[6,8] = -1\n",
    "A[7,7] = 1\n",
    "A[8,5] = 1\n",
    "A[8,9] = -1/np.sqrt(2)\n",
    "A[9,7] = -1\n",
    "A[9,9] = -1/np.sqrt(2)\n",
    "A[10,8] = 1\n",
    "A[10,9] = 1/np.sqrt(2)\n",
    "A[10,10] = 1\n",
    "A[11,9] = 1/np.sqrt(2)\n",
    "A[11,11] = 1\n",
    "#print(A)\n",
    "           \n",
    "b = np.zeros(12)    \n",
    "b[5] = 1000\n",
    "b[9] = 2000\n",
    "\n",
    "x = np.linalg.solve(A,b)      #solve with the \"solve(...)\" function in Numpy.\n",
    "print(\"solution x = \", x)"
   ]
  },
  {
   "cell_type": "code",
   "execution_count": null,
   "metadata": {},
   "outputs": [],
   "source": []
  }
 ],
 "metadata": {
  "kernelspec": {
   "display_name": "Python 3",
   "language": "python",
   "name": "python3"
  },
  "language_info": {
   "codemirror_mode": {
    "name": "ipython",
    "version": 3
   },
   "file_extension": ".py",
   "mimetype": "text/x-python",
   "name": "python",
   "nbconvert_exporter": "python",
   "pygments_lexer": "ipython3",
   "version": "3.7.3"
  }
 },
 "nbformat": 4,
 "nbformat_minor": 2
}
