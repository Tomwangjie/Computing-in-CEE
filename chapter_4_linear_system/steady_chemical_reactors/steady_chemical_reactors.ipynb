{
 "cells": [
  {
   "cell_type": "markdown",
   "metadata": {},
   "source": [
    "# Steady state chemical reactors\n",
    "\n",
    "by Xiaofeng Liu, Ph.D., P.E.  \n",
    "Associate Professor\n",
    "\n",
    "Department of Civil and Environmental Engineering  \n",
    "Institute of Computational and Data Sciences  \n",
    "Penn State University  \n",
    "223B Sackett Building, University Park, PA 16802\n",
    "\n",
    "Web: http://water.engr.psu.edu/liu/"
   ]
  },
  {
   "cell_type": "markdown",
   "metadata": {},
   "source": [
    "Chemical reactors can be connected and combined into a system. Inflows with different chemical composition and concentrations can be mixed and react. The final product will be exported as an outflow. In the example shown the following figure, only mixing is considered and no reaction happens in each of the reactor. For simplicity, we only consider one chemical species only. The principle can be expanded into multiple species. If there are reaction in the reactors, the following analysis does not apply. \n",
    "\n",
    "Three reactors are connected as follows. The flow rates into and out of the system, as well as inbetween the reactors, are given. The question is what the concentrations in each reactor will be at steady state. To solve this problem, we can use simple mass conservation law for the chemical species in each reactor: incoming = outgoing. For reactor 1, 2, and 3, respectively, we have the following species mass balance:\n",
    "\\begin{equation}\n",
    "2 \\times 1 + 1 \\times C_2 = 3 \\times C_1\n",
    "\\end{equation}\n",
    "\n",
    "\\begin{equation}\n",
    "5 \\times 3 = 1\\times C_2 + 4\\times C_2\n",
    "\\end{equation}\n",
    " \n",
    "\\begin{equation}\n",
    "3 \\times C_1 + 4 \\times C_2 = 7 \\times C_3\n",
    "\\end{equation}\n",
    "\n",
    "<img src=\"reactor_system.png\" width=\"300\"/>\n",
    "<h3 align=\"center\">Figure. Reactors system example.</h3> \n",
    "\n",
    "The resulted linear system has the form of: \n",
    "\\begin{eqnarray}\n",
    "  2 + C_2 &=& 3 C_1 \\\\\n",
    "  15 & = & 5 C_2 \\\\\n",
    "  3C_1 + 4 C_2 &=& 7 C_3\n",
    "\\end{eqnarray}\n",
    "which can be written in matrix form as:\n",
    " \\begin{equation}\n",
    " \\begin{bmatrix}\n",
    "  -3 & 1  & 0 \\\\\n",
    "  0  & 5  & 1 \\\\\n",
    "  3 & 4 & -7 \\\\\n",
    " \\end{bmatrix}\n",
    " \\begin{bmatrix}\n",
    " c_1 \\\\\n",
    " c_2 \\\\\n",
    " c_3 \n",
    " \\end{bmatrix}\n",
    "=\n",
    "\\begin{bmatrix}\n",
    "-2 \\\\\n",
    "15 \\\\\n",
    "0 \n",
    "\\end{bmatrix} \n",
    " \\end{equation}\n",
    "The solution of this linear equation system will give the concentrations in each of the three reactors at steady state."
   ]
  },
  {
   "cell_type": "code",
   "execution_count": 1,
   "metadata": {},
   "outputs": [
    {
     "name": "stdout",
     "output_type": "stream",
     "text": [
      "solution x =  [1.525 2.575 2.125]\n"
     ]
    }
   ],
   "source": [
    "import numpy as np\n",
    "\n",
    "A = np.zeros((3,3))\n",
    "A[0,0] = -3\n",
    "A[0,1] = 1\n",
    "A[0,2] = 0\n",
    "\n",
    "A[1,0] = 0\n",
    "A[1,1] = 5\n",
    "A[1,2] = 1\n",
    "\n",
    "A[2,0] = 3\n",
    "A[2,1] = 4\n",
    "A[2,2] = -7\n",
    "\n",
    "#print(A)\n",
    "           \n",
    "b = np.zeros(3)    \n",
    "b[0] = -2\n",
    "b[1] = 15\n",
    "b[2] = 0\n",
    "\n",
    "x = np.linalg.solve(A,b)      #solve with the \"solve(...)\" function in Numpy.\n",
    "print(\"solution x = \", x)"
   ]
  },
  {
   "cell_type": "code",
   "execution_count": null,
   "metadata": {},
   "outputs": [],
   "source": []
  }
 ],
 "metadata": {
  "kernelspec": {
   "display_name": "Python 3",
   "language": "python",
   "name": "python3"
  },
  "language_info": {
   "codemirror_mode": {
    "name": "ipython",
    "version": 3
   },
   "file_extension": ".py",
   "mimetype": "text/x-python",
   "name": "python",
   "nbconvert_exporter": "python",
   "pygments_lexer": "ipython3",
   "version": "3.7.3"
  }
 },
 "nbformat": 4,
 "nbformat_minor": 2
}
