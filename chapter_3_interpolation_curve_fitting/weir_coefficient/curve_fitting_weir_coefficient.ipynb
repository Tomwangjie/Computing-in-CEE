{
 "cells": [
  {
   "cell_type": "markdown",
   "metadata": {},
   "source": [
    "# Curve fitting for weir discharge coefficient\n",
    "\n",
    "by Xiaofeng Liu, Ph.D., P.E.  \n",
    "Associate Professor\n",
    "\n",
    "Department of Civil and Environmental Engineering  \n",
    "Institute of Computational and Data Sciences  \n",
    "Penn State University  \n",
    "223B Sackett Building, University Park, PA 16802\n",
    "\n",
    "Web: http://water.engr.psu.edu/liu/"
   ]
  },
  {
   "cell_type": "markdown",
   "metadata": {},
   "source": [
    "## Introduction\n",
    "\n",
    "Weirs are probably the most common hydraulic structures for flow control and measurement in open channels. They are either man-made or natural feature that obstructs flow. There are different kinds of weirs, which can be broadly categorized as sharp crested weirs and broad crested weirs. The flow discharge over a weir is related to the upstream hydraulic head. The relationship between weir discharge and head is called the rating curve, which usually comes from fitting of experimental data. \n",
    "\n",
    "\n",
    "<img src=\"broad_crested_weir.png\" width=\"600\"/>\n",
    "\n",
    "\n",
    "The general discharge of the flow over a broad-crested weir can be written as: \n",
    "\\begin{equation}\n",
    "   Q=\\frac{2}{3}C_dW\\sqrt{2g}H^{1.5}\n",
    "\\end{equation}\n",
    "where $Q$ is the discharge, $W$ is the weir width measured along its crest, and $g$ is gravitational accleration. $H$ is the total head of water above the weir crest, which equals to $V^2/(2g)+h$. Here, $V$ is the incoming flow velocity and $h$ is the upstream water depth above the weir crest. This discharge equation is based on the conservation of energy principle. \n",
    "\n",
    "We are interested in the value of discharge coefficient $C_d$ that can be used to estimate the discharge of rivers or design the head of water above the weir crest. Again, this discharge coefficient $C_d$ comes from curve fitting based on experimental data. \n",
    "\n",
    "For this problem, the discharge can be converted to the following linear curve fitting:\n",
    "\\begin{equation}\n",
    "   y = a_1 x + e\n",
    "\\end{equation}\n",
    "where $y = Q$, $a_1 = \\frac{2}{3}C_dW\\sqrt{2g}$, and $x= H^{1.5}$. Note that the term involving the power of 1.5 comes from physical laws. Thus,there is no need for power-law curve fitting.\n",
    "\n",
    "In the following, the Python code performs the linear regression. The measurement data in \"Q_H.txt\" is from the following reference:\n",
    "```\n",
    "Brater, E.F. and King, H.W., 1976. Handbook of hydraulics for the solution of hydraulic engineering problems.\n",
    "```\n",
    "In the data file, $W$ is a constant and has a value of 0.5 ft."
   ]
  },
  {
   "cell_type": "code",
   "execution_count": 11,
   "metadata": {},
   "outputs": [
    {
     "name": "stdout",
     "output_type": "stream",
     "text": [
      "Fitted broad crest weir discharge coefficient is  3.32\n"
     ]
    },
    {
     "data": {
      "text/plain": [
       "[]"
      ]
     },
     "execution_count": 11,
     "metadata": {},
     "output_type": "execute_result"
    },
    {
     "data": {
      "image/png": "[encoded data removed]",
      "text/plain": [
       "<Figure size 432x288 with 1 Axes>"
      ]
     },
     "metadata": {
      "needs_background": "light"
     },
     "output_type": "display_data"
    }
   ],
   "source": [
    "%matplotlib inline\n",
    "\n",
    "import numpy as np\n",
    "import matplotlib.pyplot as plt\n",
    "\n",
    "plt.rc('text', usetex=True)  #allow the use of Latex for math expressions and equations\n",
    "plt.rc('font', family='serif') #specify the default font family to be \"serif\"\n",
    "\n",
    "#calculate the two linear regression coefficients\n",
    "#and also the r2 value\n",
    "def calculate_linear_regression_coef(x, y): \n",
    "    if(np.size(x) != np.size(y)):\n",
    "        sys.exit(\"The two vectors x and y are not of the same length.\")\n",
    "\n",
    "    # number of observations/points \n",
    "    n = np.size(x)\n",
    "\n",
    "    sx = np.sum(x)\n",
    "    sy = np.sum(y)\n",
    "\n",
    "    sx2 = np.inner(x,x)\n",
    "    sxy = np.inner(x,y)\n",
    "    sy2 = np.inner(y,y)\n",
    "\n",
    "    # calculating regression coefficients \n",
    "    a1 = (n*sxy - sx*sy)/(n*sx2 - sx**2)\n",
    "    a0 = sy/n - a1*sx/n\n",
    "\n",
    "    r2 = ((n*sxy-sx*sy)/np.sqrt(n*sx2-sx**2)/np.sqrt(n*sy2-sy**2))**2;\n",
    "\n",
    "    return(a0, a1, r2) \n",
    "\n",
    "\n",
    "#directly load the data from file and assign the columns to \"x\" and \"y\"\n",
    "H, Q = np.loadtxt('Q_H.txt', unpack=True, skiprows=1)\n",
    "x = H**1.5\n",
    "y= Q\n",
    "\n",
    "a0, a1, r2 = calculate_linear_regression_coef(x, y) \n",
    "\n",
    "W = 0.5\n",
    "g = 9.8\n",
    "\n",
    "cd = a1 *3/2/W/np.sqrt(2*g)\n",
    "print(\"Fitted broad crest weir discharge coefficient is \", round(cd,2))\n",
    "\n",
    "Q_pre = 2/3*cd*W*np.sqrt(2*g)*H**1.5\n",
    "\n",
    "plt.scatter(H, Q, c = \"r\", marker = \"x\", s = 40, label='measurement data') \n",
    "plt.plot(H, Q_pre, label='fitted curve') \n",
    "\n",
    "plt.xlabel('H (ft)',fontsize=16) \n",
    "plt.ylabel('Q (ft$^3$/s)',fontsize=16) \n",
    "\n",
    "#show the ticks on both axes and set the font size \n",
    "plt.tick_params(axis='both', which='major', labelsize=12)\n",
    "\n",
    "plt.legend(loc='upper left',fontsize=14,frameon=False)\n",
    "\n",
    "plt.plot()"
   ]
  },
  {
   "cell_type": "code",
   "execution_count": null,
   "metadata": {},
   "outputs": [],
   "source": []
  }
 ],
 "metadata": {
  "kernelspec": {
   "display_name": "Python 3",
   "language": "python",
   "name": "python3"
  },
  "language_info": {
   "codemirror_mode": {
    "name": "ipython",
    "version": 3
   },
   "file_extension": ".py",
   "mimetype": "text/x-python",
   "name": "python",
   "nbconvert_exporter": "python",
   "pygments_lexer": "ipython3",
   "version": "3.7.3"
  }
 },
 "nbformat": 4,
 "nbformat_minor": 2
}
