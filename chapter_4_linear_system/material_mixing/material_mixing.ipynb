{
 "cells": [
  {
   "cell_type": "markdown",
   "metadata": {},
   "source": [
    "# Material mixing\n",
    "\n",
    "by Xiaofeng Liu, Ph.D., P.E.  \n",
    "Associate Professor\n",
    "\n",
    "Department of Civil and Environmental Engineering  \n",
    "Institute of Computational and Data Sciences  \n",
    "Penn State University  \n",
    "223B Sackett Building, University Park, PA 16802\n",
    "\n",
    "Web: http://water.engr.psu.edu/liu/"
   ]
  },
  {
   "cell_type": "markdown",
   "metadata": {},
   "source": [
    "Concrete mixture is made of cement, sand, and gravel (before water is added). A common problem is mix different concrete mixture to achieve certian cement, sand and gravel ratio. For example, a contractor wants 100 cubic feet of mixture with cement:sand:gravel = 1:2:3. The contractor has three suppliers who can supply mixtures as follows:\n",
    "   - Supplier 1: cement:sand:gravel = 1:3:4\n",
    "   - Supplier 2: cement:sand:gravel = 1:2:5\n",
    "   - Supplier 3: cement:sand:gravel = 1:3:2        \n",
    "The question is how much the contractor needs to buy from each supplier to achieve his goal? To solve this problem, let's define $x_1$, $x_2$, and $x_3$ as the volume to buy from each supplier. Then, the total volume should satisfy\n",
    "\\begin{equation}\n",
    "   x_1 + x_2 + x_3 = 100\n",
    "\\end{equation}\n",
    "\n",
    "The total cement, sand, and gravel he will get can be calculated as follows:\n",
    "   - Total cement: $\\frac{1}{8}x_1 + \\frac{1}{8}x_2 +\\frac{1}{6}x_3 $\n",
    "   - Total sand: $\\frac{3}{8}x_1 + \\frac{2}{8}x_2 +\\frac{3}{6}x_3 $\n",
    "   - Total gravel: $\\frac{4}{8}x_1 + \\frac{5}{8}x_2 +\\frac{2}{6}x_3 $\n",
    "Then the desired ratio of cement:sand:gravel = 1:2:3 gives\n",
    " \\begin{equation}\n",
    "  2\\left(\\frac{1}{8}x_1 + \\frac{1}{8}x_2 +\\frac{1}{6}x_3 \\right) = \\frac{3}{8}x_1 + \\frac{2}{8}x_2 +\\frac{3}{6}x_3  \n",
    " \\end{equation}\n",
    " \\begin{equation}\n",
    " 3 \\left(\\frac{1}{8}x_1 + \\frac{1}{8}x_2 +\\frac{1}{6}x_3 \\right) = \\frac{4}{8}x_1 + \\frac{5}{8}x_2 +\\frac{2}{6}x_3\n",
    " \\end{equation}\n",
    " \n",
    "After simplification, the problem can be written as\n",
    "\\begin{eqnarray}\n",
    " x_1 + x_2 + x_3 &=& 100 \\\\\n",
    " 3 x_1 - 4 x_3 &=& 0 \\\\\n",
    " 9x_1+6x_2-4x_3 & = & 0\n",
    " \\end{eqnarray}\n",
    "or in matrix form as\n",
    " \\begin{equation}\n",
    " \\begin{bmatrix}\n",
    "  1 & 1  & 1 \\\\\n",
    "  3 & -4 & 0  \\\\\n",
    "  9 & 6  & -4\n",
    " \\end{bmatrix}\n",
    " \\begin{bmatrix}\n",
    " x_1 \\\\\n",
    " x_2 \\\\\n",
    " x_3\n",
    " \\end{bmatrix}\n",
    "=\n",
    "\\begin{bmatrix}\n",
    "100 \\\\\n",
    "0 \\\\\n",
    "0\n",
    "\\end{bmatrix} \n",
    " \\end{equation}"
   ]
  },
  {
   "cell_type": "code",
   "execution_count": 3,
   "metadata": {},
   "outputs": [
    {
     "name": "stdout",
     "output_type": "stream",
     "text": [
      "solution x =  [19.51 14.63 65.85]\n"
     ]
    }
   ],
   "source": [
    "import numpy as np\n",
    "\n",
    "A = np.zeros((3,3))\n",
    "A[0,0] = 1\n",
    "A[0,1] = 1\n",
    "A[0,2] = 1\n",
    "\n",
    "A[1,0] = 3\n",
    "A[1,1] = -4\n",
    "A[1,2] = 0\n",
    "\n",
    "A[2,0] = 9\n",
    "A[2,1] = 6\n",
    "A[2,2] = -4\n",
    "\n",
    "#print(A)\n",
    "           \n",
    "b = np.zeros(3)    \n",
    "b[0] = 100\n",
    "b[1] = 0\n",
    "b[2] = 0\n",
    "\n",
    "x = np.linalg.solve(A,b)      #solve with the \"solve(...)\" function in Numpy.\n",
    "print(\"solution x = \", x.round(2))"
   ]
  },
  {
   "cell_type": "code",
   "execution_count": null,
   "metadata": {},
   "outputs": [],
   "source": []
  }
 ],
 "metadata": {
  "kernelspec": {
   "display_name": "Python 3",
   "language": "python",
   "name": "python3"
  },
  "language_info": {
   "codemirror_mode": {
    "name": "ipython",
    "version": 3
   },
   "file_extension": ".py",
   "mimetype": "text/x-python",
   "name": "python",
   "nbconvert_exporter": "python",
   "pygments_lexer": "ipython3",
   "version": "3.7.3"
  }
 },
 "nbformat": 4,
 "nbformat_minor": 2
}
