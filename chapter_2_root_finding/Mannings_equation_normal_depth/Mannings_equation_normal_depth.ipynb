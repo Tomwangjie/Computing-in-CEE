{
 "cells": [
  {
   "cell_type": "markdown",
   "metadata": {},
   "source": [
    "# Finding normal depth with Manning's equation\n",
    "\n",
    "by Xiaofeng Liu, Ph.D., P.E.\n",
    "Associate Professor\n",
    "\n",
    "Department of Civil and Environmental Engineering\n",
    "\n",
    "Institute of Computational and Data Sciences\n",
    "\n",
    "Penn State University\n",
    "\n",
    "223B Sackett Building, University Park, PA 16802\n",
    "\n",
    "Web: http://water.engr.psu.edu/liu/\n",
    "\n",
    "-------------------------------------------------"
   ]
  },
  {
   "cell_type": "code",
   "execution_count": 1,
   "metadata": {},
   "outputs": [
    {
     "name": "stdout",
     "output_type": "stream",
     "text": [
      "Start to load preamble.\n",
      "Finished loading preamble.\n"
     ]
    }
   ],
   "source": [
    "#Do not change this cell. It is for setting things up.\n",
    "\n",
    "#make plots inline\n",
    "%matplotlib inline\n",
    "\n",
    "#import the preamble in the parent directory\n",
    "import sys\n",
    "sys.path.append(\"../..\")\n",
    "from preamble import *"
   ]
  },
  {
   "cell_type": "code",
   "execution_count": 2,
   "metadata": {},
   "outputs": [
    {
     "data": {
      "application/javascript": [
       "MathJax.Hub.Config({\n",
       "    TeX: { equationNumbers: { autoNumber: \"AMS\" } }\n",
       "});\n"
      ],
      "text/plain": [
       "<IPython.core.display.Javascript object>"
      ]
     },
     "metadata": {},
     "output_type": "display_data"
    }
   ],
   "source": [
    "%%javascript\n",
    "MathJax.Hub.Config({\n",
    "    TeX: { equationNumbers: { autoNumber: \"AMS\" } }\n",
    "});"
   ]
  },
  {
   "cell_type": "markdown",
   "metadata": {
    "slideshow": {
     "slide_type": "subslide"
    }
   },
   "source": [
    "This notebook is to demonstrate the use of different methods to find the normal depth with Manning's equation in open channel flows. \n",
    "\n",
    "The Manning's equation is one of most celebrated equations in hydraulic engineering. It was proposed by Robert Manning in 1889 as an alternative to the Chezy equation. The Manning's equation is a half-emperical half-theoretical equation for unifrom flow in open channels. It has the form of:\n",
    "\\begin{equation}\n",
    "Q = \\frac{k_n}{n}A(y)R(y)^{2/3}S_o^{1/2}\n",
    "\\end{equation}\n",
    "where $Q$ is the discharge, $k_n$ is a unit conversion factor (=1.0 in SI and 1.486 in English unit system), $n$ is the Manning's roughness coefficient, $A$ is flow area, $R$ is hydraulic radius, and $S_o$ is channel slope. The hydraulic radius is defined as:\n",
    "\\begin{equation}\n",
    "R(y) = \\frac{A(y)}{P(y)}\n",
    "\\end{equation}\n",
    "where $P(y)$ is the wetted perimeter. The functional forms of $A(y)$ and $R(y)$ depends on the geometric shape of the cross section. In this example, we will use a rectangular cross section with a bottom width of $B$. As such, \n",
    "\\begin{equation}\n",
    "A(y) = By\n",
    "\\end{equation}\n",
    "\\begin{equation}\n",
    "P(y) = B + 2y\n",
    "\\end{equation}\n",
    "\\begin{equation}\n",
    "R(y) = \\frac{By}{B+2y}\n",
    "\\end{equation}\n",
    "\n",
    "<img src=\"rectangular_channel.png\" width=\"400\"/>\n",
    "<h3 align=\"center\">Figure. Open channel with a rectangular cross section.</h3> \n",
    "\n",
    "Given $Q$, $n$, and $S_o$, the Manning's equation is an implicit equation for water depth $y$. To solve for $y$, it is essentially to find the root of the Manning's equation. This example will use the Newton's method (also known as the Newton-Raphson method). To find the root, the Manning's equation is written as\n",
    "\\begin{equation}\n",
    "f(y) = Q - \\frac{k_n}{n}A(y)R(y)^{2/3}S_o^{1/2} = 0\n",
    "\\end{equation}\n",
    "and the iterative process using the Newton's method is\n",
    "\\begin{equation}\n",
    "y_{n+1} = y_n - \\frac{f(y_n)}{f'(y_n)}\n",
    "\\end{equation}\n",
    "until a specified accuracy $\\epsilon$ is reached, i.e.,\n",
    "\\begin{equation}\n",
    "\\left|y_{n+1} - y_n \\right| < \\epsilon.\n",
    "\\end{equation}\n",
    "\n",
    "In fact, the key and probably the most difficult part of the Newton's method is to evaluate the derivative $f'(y)$. If the functional form of $f(y)$ is complex, it will expensive to evaluate the derivative. As an alternative, the derivative can approximated numerically with a finite difference method. In such case, the method is called the secant method. Indeed, the secant methods is much older the Newton's method. The numerical approximation of the derivative can be written as\n",
    "\\begin{equation}\n",
    "f'(y_n) = \\frac{f(y_{n})-f(y_{n-1})}{y_{n} - y_{n-1}}.\n",
    "\\end{equation}\n",
    "\n",
    "Due to the complexity of the Manning's equation (stemmed from the cross sectional geomtry), we will use the secant method. The implementation here uses the example code as a reference:\n",
    "[prog4comp](https://github.com/hplgit/prog4comp/blob/master/src/py/secant_method.py).\n",
    "\n",
    "SI unit system is used in this example. Thus, $k_n$ = 1.0.\n",
    "\n",
    "More resources can be found online:\n",
    "* [wikipedia.org](https://en.wikipedia.org/wiki/Manning_formula)\n",
    "* [Newton's method](https://en.wikipedia.org/wiki/Newton%27s_method)\n",
    "* [Secant method](https://en.wikipedia.org/wiki/Secant_method)\n",
    "\n",
    "The following concetps in Python are used:\n",
    "* function\n",
    "* Numpy array\n",
    "* while, for, exception\n",
    "* plotting and graphic visulization\n",
    "* scipy library (for comparison)\n",
    "\n",
    "Note: This notebook uses Python v3.x. "
   ]
  },
  {
   "cell_type": "markdown",
   "metadata": {},
   "source": [
    "### Required input (SI unit)"
   ]
  },
  {
   "cell_type": "code",
   "execution_count": 7,
   "metadata": {
    "collapsed": true
   },
   "outputs": [],
   "source": [
    "#discharge (m^3/s)\n",
    "Q=10.0\n",
    "\n",
    "#Manning's n\n",
    "n = 0.03\n",
    "\n",
    "#channel slope\n",
    "So = 1e-5\n",
    "\n",
    "#chanenl bottom width - rectangular\n",
    "B = 10.0\n",
    "\n",
    "#initial guess of the normal depth (m)\n",
    "y0 = 1.0\n",
    "y1 = y0 - 0.1\n",
    "\n",
    "#accuracy \n",
    "epsilon = 1e-6"
   ]
  },
  {
   "cell_type": "markdown",
   "metadata": {},
   "source": [
    "## Define functions "
   ]
  },
  {
   "cell_type": "code",
   "execution_count": 8,
   "metadata": {
    "collapsed": true
   },
   "outputs": [],
   "source": [
    "def secant(f, y0, y1, args):\n",
    "    eps = args[4]\n",
    "    f_y0 = f(y0,args)\n",
    "    f_y1 = f(y1,args)\n",
    "    iteration_counter = 0\n",
    "    while abs(f_y1) > eps and iteration_counter < 100:\n",
    "        try:\n",
    "            denominator = float(f_y1 - f_y0)/(y1 - y0)\n",
    "            y = y1 - float(f_y1)/denominator\n",
    "        except ZeroDivisionError:\n",
    "            print(\"Error! - denominator zero for y = \", y)\n",
    "            sys.exit(1)     # Abort with error\n",
    "        y0 = y1\n",
    "        y1 = y\n",
    "        f_y0 = f_y1\n",
    "        f_y1 = f(y1,args)\n",
    "        iteration_counter += 1\n",
    "    # Here, either a solution is found, or too many iterations\n",
    "    if abs(f_y1) > eps:\n",
    "        iteration_counter = -1\n",
    "    return y, iteration_counter\n",
    "\n",
    "def f(y,args):\n",
    "    Q,n,So,B,epsilon = args\n",
    "    area = B*y \n",
    "    wetted_perimeter = B + 2.0*y\n",
    "    R = area/wetted_perimeter\n",
    "    residual = Q - 1.0/n*area*R**(2.0/3.0)*So**(0.5)\n",
    "    return residual"
   ]
  },
  {
   "cell_type": "markdown",
   "metadata": {},
   "source": [
    "## Main program to solve the problem"
   ]
  },
  {
   "cell_type": "code",
   "execution_count": 9,
   "metadata": {},
   "outputs": [
    {
     "data": {
      "application/pdf": "[encoded data removed]",
      "image/png": "[encoded data removed]",
      "text/plain": [
       "<matplotlib.figure.Figure at 0x115c68f98>"
      ]
     },
     "metadata": {},
     "output_type": "display_data"
    },
    {
     "name": "stdout",
     "output_type": "stream",
     "text": [
      "Number of function calls: 7\n",
      "A solution is: 5.112424\n",
      "A solution from using scipy is: 5.112424\n"
     ]
    }
   ],
   "source": [
    "# pack all arguments into args0:\n",
    "# Q, n, So, B\n",
    "args0 = [Q, n, So, B, epsilon]\n",
    "#print(args0)\n",
    "\n",
    "#(optional) plot the function to have an idea of where the roots are located.\n",
    "y = np.linspace(0.01, 10, num=20, endpoint=True)\n",
    "f_val = f(y,args0)\n",
    "\n",
    "plt.figure(figsize=(6,4))\n",
    "plt.plot(y,f_val,'b',linewidth=3)\n",
    "plt.plot([0,10],[0,0],'r',linestyle=\"--\")\n",
    "plt.xlabel('y')\n",
    "plt.ylabel('f(y)')\n",
    "#plt.legend()\n",
    "plt.show()\n",
    "#End of optional plot\n",
    "\n",
    "\n",
    "solution, no_iterations = secant(f, y0, y1, args0)\n",
    "\n",
    "if no_iterations > 0:    # Solution found\n",
    "    print(\"Number of function calls: %d\" % (2 + no_iterations))\n",
    "    print(\"A solution is: %f\" % (solution))\n",
    "else:\n",
    "    print(\"Solution not found!\")\n",
    "    \n",
    "#compare your solution with the one from scipy\n",
    "#see the documentation for scipy.optimize.root(...) function\n",
    "sol = sp_opt.root(f, [0], args0, method='hybr')\n",
    "print(\"A solution from using scipy is: %f\" % sol.x[0])\n"
   ]
  },
  {
   "cell_type": "code",
   "execution_count": null,
   "metadata": {
    "collapsed": true
   },
   "outputs": [],
   "source": []
  }
 ],
 "metadata": {
  "kernelspec": {
   "display_name": "Python 3",
   "language": "python",
   "name": "python3"
  },
  "language_info": {
   "codemirror_mode": {
    "name": "ipython",
    "version": 3
   },
   "file_extension": ".py",
   "mimetype": "text/x-python",
   "name": "python",
   "nbconvert_exporter": "python",
   "pygments_lexer": "ipython3",
   "version": "3.7.3"
  }
 },
 "nbformat": 4,
 "nbformat_minor": 1
}
