{
 "cells": [
  {
   "cell_type": "markdown",
   "metadata": {},
   "source": [
    "# Curve fitting for velocity profile in open channel\n",
    "\n",
    "by Xiaofeng Liu, Ph.D., P.E.  \n",
    "Associate Professor\n",
    "\n",
    "Department of Civil and Environmental Engineering  \n",
    "Institute of Computational and Data Sciences  \n",
    "Penn State University  \n",
    "223B Sackett Building, University Park, PA 16802\n",
    "\n",
    "Web: http://water.engr.psu.edu/liu/"
   ]
  },
  {
   "cell_type": "markdown",
   "metadata": {},
   "source": [
    "# Flow velocity profile\n",
    "\n",
    "Open channels are bounded by river bed (solid) on side and air on top. On bed, flow velocity is zero due to viscosity. In general, flow velocity increases from zero on bed to its maximun near the free surface. The distribution of flow velocity (profile) is of great importancce in several aspects. For example, the integration of flow velocity distribution across a section will give the flow discharge (amount of water move through this section per unit time). The specific velocity distribution also affects the shear stress on the bed, which can cause erosion. \n",
    "\n",
    "From fluid dynamics, there are generally three layers in a near wall flow, i.e., the viscous sublayer where the effect of viscosity is dominant, the buffer layer (a transition layer), and the log-law layer. In the log-law layer, which occupies the majority of water column, the time-averaged velocity $U(z)$ of a turbulent flow at a certain point is proportional to the logarithm of the distance $z$ from \"wall\" ([see wikipedia explanation](https://en.wikipedia.org/wiki/Law_of_the_wall)).\n",
    "\n",
    "Mathematically, the log-law can be written as \n",
    "\\begin{equation}\n",
    "   \\frac{U}{u_*} = \\frac{1}{\\kappa}\\ln(\\frac{z}{k_s/30})\n",
    "\\end{equation}\n",
    "where $u_*$ is the shear velocity, $k_s$ is the roughness of the wall, and $\\kappa$ is a constant equal to 0.41.\n",
    "\n",
    "<img src=\"log_law.png\" width=\"300\"/>\n",
    "\n",
    "In experiments or field measurements, it is easy to measure the velocity $U$ and the distance $z$. In other words, the velocity profile is easy to obtain. From such velocity profile, we are often interested in calculating the value of the shear velocity $u_*$ and the roughness of the wall $k_s$. From the shear velocity, we can further calculate things like shear stress as $\\tau_b = \\rho u_*^2$.\n",
    "\n",
    "For this problem, the log law (law of the wall) equation can be converted to:\n",
    "\\begin{equation}\n",
    "   U = \\frac{u_*}{\\kappa}\\ln(z)-\\frac{u_*}{\\kappa}\\ln(\\frac{k_s}{30})\n",
    "\\end{equation}\n",
    "With measured data, we can fit a linear curve in the form of\n",
    "\\begin{equation}\n",
    "   y = a_0+a_1 x\n",
    "\\end{equation}\n",
    "where $y = U$, $a_1 = \\frac{u_*}{\\kappa}$, $a_0 = -\\frac{u_*}{\\kappa}\\ln(\\frac{k_s}{30})$ and $x= \\ln(z)$\n",
    "\n",
    "The following Python code first reads in the velocit profile data and then perform the curve fitting. The code will then calculate and report the fitted shear velocity and roughness height. At the end, it plotts the data set and the fitted curve. "
   ]
  },
  {
   "cell_type": "code",
   "execution_count": 5,
   "metadata": {},
   "outputs": [
    {
     "name": "stdout",
     "output_type": "stream",
     "text": [
      "Fitted shear velocity is  0.026  m/s.\n",
      "Fitted roughness is  0.0064  m.\n"
     ]
    },
    {
     "data": {
      "text/plain": [
       "[]"
      ]
     },
     "execution_count": 5,
     "metadata": {},
     "output_type": "execute_result"
    },
    {
     "data": {
      "image/png": "[encoded data removed]",
      "text/plain": [
       "<Figure size 432x288 with 1 Axes>"
      ]
     },
     "metadata": {
      "needs_background": "light"
     },
     "output_type": "display_data"
    }
   ],
   "source": [
    "import numpy as np\n",
    "import matplotlib.pyplot as plt\n",
    "\n",
    "plt.rc('text', usetex=True)  #allow the use of Latex for math expressions and equations\n",
    "plt.rc('font', family='serif') #specify the default font family to be \"serif\"\n",
    "\n",
    "#calculate the two linear regression coefficients\n",
    "#and also the r2 value\n",
    "def calculate_linear_regression_coef(x, y): \n",
    "    if(np.size(x) != np.size(y)):\n",
    "        sys.exit(\"The two vectors x and y are not of the same length.\")\n",
    "\n",
    "    # number of observations/points \n",
    "    n = np.size(x)\n",
    "\n",
    "    sx = np.sum(x)\n",
    "    sy = np.sum(y)\n",
    "\n",
    "    sx2 = np.inner(x,x)\n",
    "    sxy = np.inner(x,y)\n",
    "    sy2 = np.inner(y,y)\n",
    "\n",
    "    # calculating regression coefficients \n",
    "    a1 = (n*sxy - sx*sy)/(n*sx2 - sx**2)\n",
    "    a0 = sy/n - a1*sx/n\n",
    "\n",
    "    r2 = ((n*sxy-sx*sy)/np.sqrt(n*sx2-sx**2)/np.sqrt(n*sy2-sy**2))**2;\n",
    "\n",
    "    return(a0, a1, r2) \n",
    "\n",
    "\n",
    "#directly load the data from file and assign the columns to \"x\" and \"y\"\n",
    "z, U = np.loadtxt('velocity_data.txt', unpack=True, skiprows=1)\n",
    "x = np.log(z)\n",
    "y= U\n",
    "\n",
    "a0, a1, r2 = calculate_linear_regression_coef(x, y) \n",
    "\n",
    "kappa = 0.41\n",
    "u_star = a1 * kappa\n",
    "print(\"Fitted shear velocity is \", round(u_star,3), \" m/s.\")\n",
    "\n",
    "\n",
    "ks = np.exp(a0* kappa/(-u_star))*30\n",
    "print(\"Fitted roughness is \", round(ks,4), \" m.\")\n",
    "\n",
    "\n",
    "U_pre = u_star/kappa*np.log(z/ks*30)\n",
    "\n",
    "plt.scatter( U,z, c = \"r\", marker = \"x\", s = 40, label='experimental data') \n",
    "plt.plot( U_pre,z, label='fitted curve') \n",
    "\n",
    "plt.xlabel('U (m/s)',fontsize=16) \n",
    "plt.ylabel('z (m)',fontsize=16) \n",
    "\n",
    "#show the ticks on both axes and set the font size \n",
    "plt.tick_params(axis='both', which='major', labelsize=12)\n",
    "\n",
    "plt.legend(loc='upper left',fontsize=14,frameon=False)\n",
    "\n",
    "plt.plot()"
   ]
  },
  {
   "cell_type": "code",
   "execution_count": null,
   "metadata": {},
   "outputs": [],
   "source": []
  }
 ],
 "metadata": {
  "kernelspec": {
   "display_name": "Python 3",
   "language": "python",
   "name": "python3"
  },
  "language_info": {
   "codemirror_mode": {
    "name": "ipython",
    "version": 3
   },
   "file_extension": ".py",
   "mimetype": "text/x-python",
   "name": "python",
   "nbconvert_exporter": "python",
   "pygments_lexer": "ipython3",
   "version": "3.7.3"
  }
 },
 "nbformat": 4,
 "nbformat_minor": 2
}
