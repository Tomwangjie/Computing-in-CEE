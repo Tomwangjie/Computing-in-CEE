{
 "cells": [
  {
   "cell_type": "markdown",
   "metadata": {
    "slideshow": {
     "slide_type": "slide"
    }
   },
   "source": [
    "# Curve fitting application: Boyer et al. (2011) for rheology of dense suspension\n",
    "\n",
    "by Xiaofeng Liu, Ph.D., P.E.\n",
    "Associate Professor\n",
    "\n",
    "Department of Civil and Environmental Engineering\n",
    "\n",
    "Institute of Computational and Data Sciences\n",
    "\n",
    "Penn State University \n",
    "\n",
    "223B Sackett Building, University Park, PA 16802\n",
    "\n",
    "Web: http://water.engr.psu.edu/liu/\n",
    "\n",
    "---"
   ]
  },
  {
   "cell_type": "markdown",
   "metadata": {},
   "source": [
    "In this notebook, we will demonstrate how to use nonlinear curve fitting to reproduce the \n",
    "\n",
    "> F. Boyer, E. Guazzelli, and O. Pouliquen (2011). Unifying suspension and granular rheology. Physical Review Letters. 107, 188301.\n",
    "\n",
    "Boyer et al. (2011) proposed the following entrainment law, which was derived from curve fitting:\n",
    "\\begin{equation}\n",
    "  \\mu(I_v) = \\mu_1 + \\frac{\\mu_2-\\mu_1}{1+I_0/I_v} + I_v + \\frac{5}{2} \\phi_m I_v^{1/2}\n",
    "\\end{equation}\n",
    "where $I_v$ is a dimensionless viscous number, $\\mu$ is viscosity, $\\mu_1$, $\\mu_2$ and $I_0$ are constants provided, and $\\phi_m$ is a constant for the volume fraction of suspended particles.  \n",
    "\n",
    "This equation is nonlinear and we can use nonlinear curve fitting methods. We will use the \"curve_fit\" function in [SciPy (Scientific Python)](https://www.scipy.org)'s optimize library, which uses non-linear least squares to fit a function for a give set of data.\n",
    "\n",
    "The data points were digitized from Figure 2(b) in Boyer et al. (2011) and provided in the text data file \"figure_data.csv\".\n",
    "\n",
    "Note: the following code gives fitting results slightly different from those reported in Boyer et al. (2011). The difference is due to the inaccuracy in the digitized data from the figure in the paper. "
   ]
  },
  {
   "cell_type": "markdown",
   "metadata": {},
   "source": []
  },
  {
   "cell_type": "code",
   "execution_count": 4,
   "metadata": {},
   "outputs": [
    {
     "name": "stdout",
     "output_type": "stream",
     "text": [
      "r_squared =  0.9934334234057703\n"
     ]
    },
    {
     "data": {
      "image/png": "[encoded data removed]",
      "text/plain": [
       "<Figure size 432x288 with 1 Axes>"
      ]
     },
     "metadata": {
      "needs_background": "light"
     },
     "output_type": "display_data"
    }
   ],
   "source": [
    "import numpy as np\n",
    "from scipy.optimize import curve_fit\n",
    "import matplotlib.pyplot as plt\n",
    "\n",
    "def rheology_fit(Iv, mu1, mu2, I0):\n",
    "    return mu1+(mu2-mu1)/(1.0+I0/Iv)+Iv+5.0/2.0*0.585*Iv**0.5\n",
    "\n",
    "# load the measurement data in Numpy array format\n",
    "Iv, mu = np.loadtxt('figure_data.csv', delimiter=',', unpack=True, skiprows=1)\n",
    "\n",
    "fitting_parameters, covariance = curve_fit(rheology_fit, Iv, mu)\n",
    "mu1,mu2,I0 = fitting_parameters\n",
    "\n",
    "#get the residual\n",
    "residuals = mu- rheology_fit(Iv, mu1,mu2,I0)\n",
    "#get the sum of residual squared\n",
    "ss_res = np.sum(residuals**2)\n",
    "#get the total sum of squares (ss_tot) with\n",
    "ss_tot = np.sum((mu-np.mean(mu))**2)\n",
    "#finally, the r_squared-value\n",
    "r_squared = 1 - (ss_res / ss_tot)\n",
    "\n",
    "print(\"r_squared = \", r_squared)\n",
    "\n",
    "# predicted value using the fitting curve\n",
    "x_pred = np.linspace(-6, 0, num=20)\n",
    "Iv_pred = 10**x_pred\n",
    "mu_pred = mu1+(mu2-mu1)/(1.0+I0/Iv_pred)+Iv_pred+5.0/2.0*0.585*Iv_pred**0.5\n",
    "\n",
    "# plotting the original data points\n",
    "plt.scatter(Iv, mu, c = \"none\", edgecolors = \"r\", marker = \"o\", label='Experimental data') \n",
    "\n",
    "# plotting the regression line \n",
    "plt.plot(Iv_pred, mu_pred, color = \"k\", label='Fitted line') \n",
    "\n",
    "plt.xlabel('Iv',fontsize=16) \n",
    "plt.ylabel('$\\mu$',fontsize=16) \n",
    "\n",
    "plt.xscale('log')\n",
    "\n",
    "plt.xlim([1e-6, 1])\n",
    "plt.ylim([0, 1.5])\n",
    "\n",
    "#show the ticks on both axes and set the font size \n",
    "plt.tick_params(axis='both', which='major', labelsize=12)\n",
    "\n",
    "plt.legend(loc='upper left',fontsize=14,frameon=False)\n",
    "\n",
    "plt.show() "
   ]
  },
  {
   "cell_type": "code",
   "execution_count": null,
   "metadata": {},
   "outputs": [],
   "source": []
  }
 ],
 "metadata": {
  "kernelspec": {
   "display_name": "Python 3",
   "language": "python",
   "name": "python3"
  },
  "language_info": {
   "codemirror_mode": {
    "name": "ipython",
    "version": 3
   },
   "file_extension": ".py",
   "mimetype": "text/x-python",
   "name": "python",
   "nbconvert_exporter": "python",
   "pygments_lexer": "ipython3",
   "version": "3.7.3"
  }
 },
 "nbformat": 4,
 "nbformat_minor": 1
}
