{
 "cells": [
  {
   "cell_type": "markdown",
   "metadata": {
    "slideshow": {
     "slide_type": "slide"
    }
   },
   "source": [
    "# Introduction to Python Programming\n",
    "\n",
    "by Xiaofeng Liu, Ph.D., P.E.\n",
    "Associate Professor\n",
    "\n",
    "Department of Civil and Environmental Engineering\n",
    "\n",
    "Institute of Computational and Data Sciences\n",
    "\n",
    "Penn State University\n",
    "\n",
    "223B Sackett Building, University Park, PA 16802\n",
    "\n",
    "Web: http://water.engr.psu.edu/liu/\n",
    "\n",
    "---------------------------------------------------"
   ]
  },
  {
   "cell_type": "markdown",
   "metadata": {
    "slideshow": {
     "slide_type": "subslide"
    }
   },
   "source": [
    "This notebook is a short introduction to Python programming. The purpose is to introduce enough material so you can get started. Python programming language itself, although relatively simple and easy to learn, is nevertheless a computer language. To learn and master a new language is not an easy task. It takes time, practice, and hours sitting in front of computer to debug and test. \n",
    "\n",
    "A list of good books and tutorials to learn on your own:\n",
    "* Python Essential Reference, David Beazley, Addison-Wesley Professional (on [Amazon](https://www.amazon.com/Python-Essential-Reference-Essentia-Developers-ebook/dp/B002EF2AQ6))\n",
    "* Python in a Nutshell, Alex Martelli, O'Reilly Media (on [Amazon](https://www.amazon.com/Python-Nutshell-Second-Alex-Martelli/dp/0596100469))\n",
    "* Google's Python Class for beginners [Goolge class](https://developers.google.com/edu/python/)\n",
    "\n",
    "More resources can be found online:\n",
    "* [python.org](https://wiki.python.org/moin/ReferenceBooks)\n",
    "* [https://python-forum.io](https://python-forum.io/Thread-A-List-of-Free-Python-Resources)\n",
    "\n",
    "Note: This introduction notebook uses Python v3.x. "
   ]
  },
  {
   "cell_type": "markdown",
   "metadata": {
    "slideshow": {
     "slide_type": "subslide"
    }
   },
   "source": [
    "The following is a list of things discussed in this notebook:\n",
    "* Brief history of Python \n",
    "* Core Python\n",
    "    * variable\n",
    "    * string\n",
    "    * tuples\n",
    "    * list\n",
    "    * arithmetic operations\n",
    "    * comparison operations\n",
    "    * conditionals\n",
    "    * loops\n",
    "    * type conversion\n",
    "    * reading input\n",
    "    * print output\n",
    "    * file I/O\n",
    "    * error control\n",
    "* Functions and modules\n",
    "    * functions\n",
    "    * modules\n"
   ]
  },
  {
   "cell_type": "markdown",
   "metadata": {},
   "source": [
    "## Brief history of Python\n",
    "\n",
    "Python is a programming language. But what is \"programming\"? A computer \"program\" is a collection of instructions which a computer can execute for a specific task. \n",
    "\n",
    "### What is a computer program?\n",
    "A computer program or code is written by a computer programmer (like you in this class) with a programming language, for example\n",
    "* Python\n",
    "* C\n",
    "* C++\n",
    "* Fortran\n",
    "* Java\n",
    "* Matlab\n",
    "* VBA\n",
    "* ...\n",
    "\n",
    "Computer is a part of our daily life (both personal and professional). We deal with computer through computer programs all the time, for example, using an email client to check emails, an app to chat with someone, or using Excel to finish your homework. In addition, programming (whether you call yourself a programmer or not) has become an essential skill which can make our life much easier. You may do not realize that you actually do programming in various forms. One example is when you type in formulas in an Excel spreadsheet cell, you are actually programming (or coding). More advanced form of programming of couse needs you to actually write code using certain computer language. That is what we will do in this class. \n",
    "\n",
    "### Why Python?\n",
    "\n",
    "Computer programming needs computer language. Python is one of the most popular choices. It has been used in almost all areas in engineering and science, for example scientific computing, data analysis and visualization, and artifitial intelligience. The popoularity of the Python language is due to its simmple syntax, easy to learn and use, cross-platform support (Windows, Mac OS, and Linux), large libraries (you do not need to re-invent the wheel), and most importantly free.\n",
    "\n",
    "The Python language was created by a Dutch programmer [Guido van Rossum](https://en.wikipedia.org/wiki/Guido_van_Rossum) in 1991. The aim was an interpreted, high-level, general-purpose, and easy to use programming language. The official Python website is [here](https://www.python.org/). A high-level programming language means that a programmer does not need to worry about low level things like computer structure or memory management. As you learn Python programming in this course, you will find Python code is relatively easy to read and write. The reason is that it has minimum keywords, simple structure, and clear syntax. In fact, most of Python codes read like plain English.\n",
    "\n",
    "Since Python is an interpreted language, the first requirement for using Python is to install a Python Interpretor which translates the Python code to machine code which is understandable and executable by a computer. There are several ways to install Python, see the [Python installation guide notebook](../installation_of_Python_and_libraries/installation_of_Python_and_libraries.ipynb). \n",
    "\n",
    "The benefits of an interpreted language include the following: there is no need to complile and link, speedy development. However, since it is interpreted, the code can not run without an interpretor. \n",
    "\n",
    "Because of the extrme popularity of Python, there are probably zillions of tutorials, examples, blog posts, lecture notes (including our class), and textbooks available. As a beginner, you may feel lost quickly among all these choices of learning mateirals. One suggest is that to start with something simple and short, and choose those covering what you need to learn to achieve your objectives. Programming in Python can be as easy as defining some variables and then calculating a result based on a given formular, or can be as complex as building a software suite. Once you start to build the foundations for Python programming (the same as any other programming language), you can add more skill set along the way. The skills are learned mostly through experience. This is how most programmers learn. They spend lots of hours sitting front of computers writing/debugging the code to ensure correctness, accuracy, robustness, and sometime user-friendliness.\n",
    "\n",
    "To start with, here are some suggestions on tutorials for beginners:\n",
    "* [python.org's beginner guide](https://wiki.python.org/moin/BeginnersGuide)\n",
    "\n",
    "Currently, there are two major versions of Python used in practice, i.e., versions 2.x and 3.x. Version 2.x is the legacy and 3.x is the current and future.  The final version 2.x is the version 2.7 released in mid-2010 which will receive no new developement. The version 3.x started in 2008 and several versions have been released since then. Which version you choose depends on several factors. You can read the suggestion here at [python.org](https://wiki.python.org/moin/Python2orPython3) and reference the short notebook I wrote on the [major differences between v2.x and v3.x](../differences_between_python_v2_and_v3/differences_between_python_v2_and_v3.ipynb).\n",
    "\n",
    "At the end of this notebook, there is a section discussing on how to check the version of Python you have on your computer, see [here](#check_python_version). \n",
    "\n",
    "\n",
    "### What next?\n",
    "\n",
    "From this point on, I assume that you have installed and tested Python on your computer or have access to such a computer. If not, please consult the [tutorial on installation](../installation_of_Python_and_libraries/installation_of_Python_and_libraries.ipynb).\n",
    "\n",
    "Next, we will start to discuss some of the most basic elements of Python programming. These are the foundational knowledge for our class. \n",
    "\n"
   ]
  },
  {
   "cell_type": "code",
   "execution_count": null,
   "metadata": {
    "collapsed": true
   },
   "outputs": [],
   "source": [
    "#Do not change this cell. It is for setting up things.\n",
    "\n",
    "%matplotlib inline\n",
    "\n",
    "#import the preamble in the parent directory\n",
    "import sys\n",
    "sys.path.append(\"../\")\n",
    "import preamble"
   ]
  },
  {
   "cell_type": "markdown",
   "metadata": {
    "slideshow": {
     "slide_type": "slide"
    }
   },
   "source": [
    "## Core Python\n",
    "\n",
    "This section introduce some core concepts in Python.\n",
    "\n",
    "Before we begin, here is a list of things to keep in mind regarding the Pytnon language:\n",
    "* All sequences (arrays for example) have zero offset, meaning the index for the first element of an array is 0. This is because Python is influenced by C++ and C. In deed, the Python language itself is implemented with C. For comparsion, arrays in programming language like Fortan is one-based. \n",
    "* Python is an object-oriented programming (OOP) language. However, we does not heavily rely on concepts such as class and object in OOP. Some examples include arrays in Numpy.\n",
    "* Python is case sensitive. Therefore, the names \"var\", \"Var\", and \"VAR\" are different things. Other case sensitive programming languages include C and C++; and other case insensitive programming languages include Fortran. \n",
    "* In Python code, a comment starts with the pound sign \"#\".\n",
    "* Python uses indentation for blocks and grouping of statements. The indentation can be either four spaces or a tab. For example, the following code has a loop (do not worry about the details of the syntax for now) from $i$ =1 to 5, calcuates the square of $i$, and then print it out. There is nothing like \"end for\" to close the block. The second call of the print function is outside of the \"for\" loop simply because it has no indentation. Indentations can be nested too."
   ]
  },
  {
   "cell_type": "code",
   "execution_count": 1,
   "metadata": {},
   "outputs": [
    {
     "name": "stdout",
     "output_type": "stream",
     "text": [
      "i, var1 =  1 1\n",
      "i, var1 =  2 4\n",
      "i, var1 =  3 9\n",
      "i, var1 =  4 16\n",
      "Out of the block above.\n"
     ]
    }
   ],
   "source": [
    "for i in range (1,5):\n",
    "    var1 = i**2\n",
    "    print(\"i, var1 = \", i, var1)\n",
    "    \n",
    "print(\"Out of the block above.\")"
   ]
  },
  {
   "cell_type": "markdown",
   "metadata": {},
   "source": [
    "**Variables**: Variables are used in most computer languages to store value in computer memory. A variable has name, type, and value. The value can be changed. In Python, the type can also be dynamically changed. \n",
    "    \n",
    "Note in the following Python code: \n",
    "    * the sign # denotes the beginning of a comment. Anything in the comment is ignored by Python interpreter.\n",
    "    * the **print** function is a Python function for printing.\n",
    "    * to execute the code cell, click your mouse on the cell to select it and then press simutaniously the keys \"Shift\"+\"Enter\"."
   ]
  },
  {
   "cell_type": "code",
   "execution_count": null,
   "metadata": {
    "collapsed": true,
    "slideshow": {
     "slide_type": "subslide"
    }
   },
   "outputs": [],
   "source": [
    "var1 = 3   #var1 is of integer type\n",
    "print(var1, type(var1))   #print the value and type of variable var1"
   ]
  },
  {
   "cell_type": "code",
   "execution_count": null,
   "metadata": {
    "collapsed": true
   },
   "outputs": [],
   "source": [
    "var1 = 3.14  #var 1 is now re-asigned type as float with a new value\n",
    "print(var1, type(var1))   #print the value and type of variable var1"
   ]
  },
  {
   "cell_type": "code",
   "execution_count": null,
   "metadata": {
    "collapsed": true
   },
   "outputs": [],
   "source": [
    "var1 = \"hello\"  #var 1 is now re-asigned type as string with a new value \n",
    "print(var1, type(var1))   #print the value and type of variable var1"
   ]
  },
  {
   "cell_type": "markdown",
   "metadata": {},
   "source": [
    "Since Python is an object-oriented programming language, almost everything in it is an object, which in stored in the computer memory with an address and a type. You already know how to check the \"type\". Probably a less used function is check the memory address of an object with the \"id\" function:"
   ]
  },
  {
   "cell_type": "code",
   "execution_count": null,
   "metadata": {
    "collapsed": true
   },
   "outputs": [],
   "source": [
    "var1 = 3 #var1 is an interger object\n",
    "print(var1, id(var1)) #print its value and address in memory"
   ]
  },
  {
   "cell_type": "markdown",
   "metadata": {},
   "source": [
    "Variables in Python are dynamically typed. There is no need to declare a variable and its type. When assigning a value to a variable, its type will be dynamically determined and changed accordingly. For example, "
   ]
  },
  {
   "cell_type": "code",
   "execution_count": null,
   "metadata": {
    "collapsed": true
   },
   "outputs": [],
   "source": [
    "# assign the integer value 6 to variable x. After\n",
    "# this assignment, the type of x is int.\n",
    "x = 6\n",
    "\n",
    "#print the type of x\n",
    "print(type(x))\n",
    "\n",
    "# now reassign the string value of 'hello' to x. After\n",
    "# this assignment, type of x will be str.\n",
    "x = 'hello'\n",
    "\n",
    "print(type(x))"
   ]
  },
  {
   "cell_type": "markdown",
   "metadata": {
    "slideshow": {
     "slide_type": "slide"
    }
   },
   "source": [
    "**Strings**: A string is a sequence of characters enclosed in single or double quotes (we already saw this in the previous cell)."
   ]
  },
  {
   "cell_type": "code",
   "execution_count": null,
   "metadata": {
    "collapsed": true
   },
   "outputs": [],
   "source": [
    "str1 = 'Hello world!'\n",
    "print(str1)"
   ]
  },
  {
   "cell_type": "markdown",
   "metadata": {},
   "source": [
    "Strings can be concatenated with the plus sign \"+\", or sliced with the \":\" operator. For example,"
   ]
  },
  {
   "cell_type": "code",
   "execution_count": null,
   "metadata": {
    "collapsed": true
   },
   "outputs": [],
   "source": [
    "str2 = \"This is a string\"\n",
    "str3 = \" and that is another string\"\n",
    "str23 = str2+str3   #concatenation\n",
    "print(str23)\n",
    "\n",
    "print(str23[3:10])  #slicing"
   ]
  },
  {
   "cell_type": "markdown",
   "metadata": {},
   "source": [
    "The concetp of arrays in Python is implemented as four collection data types:\n",
    "* **Lists**: A list is a collection of items which are ordered and changable. Duplicates are allowed. Elements can be of different types.\n",
    "* **Tuple**: A tuple is a collectio of items which are ordered and unchangable. Duplicates are allowed. Elements can be of different types.\n",
    "* **Set**: A set is a collection of items which are unordered and unindexed. Duplicates are not allowed.\n",
    "* **Dictionary**: A dictionary is a collection of items which are unordered, changeable, and indexed. Duplicates are not allowed.\n",
    "\n",
    "Arrays are also implemented in some libraries such as Numpy.\n",
    "\n",
    "The following are some examples demonstrating the typical use of list and tuple:"
   ]
  },
  {
   "cell_type": "code",
   "execution_count": null,
   "metadata": {
    "collapsed": true
   },
   "outputs": [],
   "source": [
    "# List\n",
    "alist = [1.0, 3.0, 5.5]  #create a list with three elements\n",
    "alist.append(1.0)   #append an element (which has the same value of alist[0] and it is allowed)\n",
    "print(alist)\n",
    "print(alist[2])     #Access the items in the list is through indexing\n",
    "\n",
    "alist[2] = \"t1\"     #change the value of one element (notice this new value is a string and has different type than others)\n",
    "print(alist)\n",
    "\n",
    "#loop through a list\n",
    "for x in alist:\n",
    "    print(x)\n",
    "    \n",
    "#Python has a set of built-in methods for list. You can read the documentation and play around with them.\n",
    "#append(), clear(), copy(), count(), extend(), index(), insert(), pop(), remove(), reverse(), sort()\n",
    "\n",
    "#You can also get the length of the list with the len() function:\n",
    "print(\"The length of the list is \",len(alist))"
   ]
  },
  {
   "cell_type": "markdown",
   "metadata": {},
   "source": [
    "We can use list to store a vector or a matrix. For vector, it is easy to see. For a matrix, we need to use a nested list. For example:"
   ]
  },
  {
   "cell_type": "code",
   "execution_count": null,
   "metadata": {
    "collapsed": true
   },
   "outputs": [],
   "source": [
    "avector = [1.0, 2.1, 3.2]\n",
    "\n",
    "#the backslash \"\\\" here signifies continuation of line. Note: it is not allowed to have anything following the backslash,\n",
    "#not even a space.\n",
    "amatrix = [[3.0, 2.4, 5.5],\\\n",
    "           [0.4, 2.3, 9.0],\\\n",
    "           [1.2, 3.0, 10.0]]\n",
    "\n",
    "print(avector)\n",
    "print(amatrix)\n",
    "print(amatrix[1][2]) #print the matrix entry on row 2 and column 3."
   ]
  },
  {
   "cell_type": "code",
   "execution_count": null,
   "metadata": {
    "collapsed": true
   },
   "outputs": [],
   "source": [
    "# Tuple\n",
    "atuple = (\"red\",\"yellow\",\"green\",(11,15,2018)) #create a tuple with four elements. Also notice there is nested tuple (11,15,2018) within.\n",
    "print(atuple)\n",
    "\n",
    "print(atuple[1])  #access tuple leemnt through indexing\n",
    "\n",
    "#atuple[1]=\"purple\" #Tuples are unchangeable. So this assignment will throw an error. Uncomment it to see the error.\n",
    "\n",
    "#loop through a tuple\n",
    "for x in atuple:\n",
    "    print(x)\n",
    "    \n",
    "#Python has a set of built-in methods for tuple. You can again read the documentation and play around with them. \n",
    "#Again, a tuple is not changeable. Thus, there is no methods like append() or insert().\n",
    "#count(), index()\n",
    "\n",
    "#You can also get the length of the tuple with the len() function:\n",
    "print(\"The length of the tuple is \", len(atuple))"
   ]
  },
  {
   "cell_type": "markdown",
   "metadata": {},
   "source": [
    "### Flow controls in Python:\n",
    "\n",
    "As in any other programming language, Python provides flow controls such that the code can make some decisions and execute different parts of the code depending on different conditions. This where the conditionals are designed for. Also, the code may need to repeat a block of statements. This can be achieved through loops.\n",
    "\n",
    "* conditionals: Python provides the \"if\" statement.\n",
    "* loops: Python provides \"while\" and \"for\" statements."
   ]
  },
  {
   "cell_type": "code",
   "execution_count": null,
   "metadata": {
    "collapsed": true
   },
   "outputs": [],
   "source": [
    "#Conditional \"if\" example\n",
    "\n",
    "hidden_value = 3\n",
    "\n",
    "#ask the user to input an integer number\n",
    "val = int(input(\"Input an integer number: \"))\n",
    "\n",
    "if val > hidden_value:\n",
    "    print(\"You input value of \", val, \"is higher than the hidden value.\")\n",
    "else:\n",
    "    print(\"You input value of \", val, \"is lower than or equal to the hidden value.\")\n"
   ]
  },
  {
   "cell_type": "code",
   "execution_count": null,
   "metadata": {
    "collapsed": true
   },
   "outputs": [],
   "source": [
    "# While loops execute a block of operations if the condition is true. \n",
    "\n",
    "alist = [1.0, 3.0, 5.5, 4.1, -2.1] #create a list with 5 elements\n",
    "\n",
    "n = 1   #counter\n",
    "\n",
    "while n < len(alist):   #print each element of the list until the counter n is larger than the list length\n",
    "    print(alist[n-1])\n",
    "    n = n + 1"
   ]
  },
  {
   "cell_type": "code",
   "execution_count": null,
   "metadata": {
    "collapsed": true
   },
   "outputs": [],
   "source": [
    "# A \"for\" loop iterates over a list of objects. We have used \"for\" loop in previous examples\n",
    "\n",
    "for i in range(5):\n",
    "    print(i)\n",
    "    \n",
    "for i in [-1, 0, 1]:  #another example\n",
    "    print(i)"
   ]
  },
  {
   "cell_type": "markdown",
   "metadata": {},
   "source": [
    "## Interaction with user\n",
    "\n",
    "Many times, the code needs in input from the user. Also, the code needs to print information to the user. \n",
    "\n",
    "* Get input from user with the \"input\" function\n",
    "* Print output with the \"print\" function\n",
    "\n",
    "We have seen the use of both in previous examples. "
   ]
  },
  {
   "cell_type": "markdown",
   "metadata": {},
   "source": [
    "## File I/O\n",
    "\n",
    "File I/O in Python is through an object of the \"file\" class (here is another example of OOP in Python), and then use its \"read\" and \"write\" methods. Remember, after you are done, you should close the file.\n",
    "\n",
    "Here is an example of simple read and write. More complex use of file I/O include formatting, file position, etc. Please consult Python documentation and examples. "
   ]
  },
  {
   "cell_type": "code",
   "execution_count": null,
   "metadata": {
    "collapsed": true
   },
   "outputs": [],
   "source": [
    "# this example first write a string to a file; then read it back\n",
    "\n",
    "str1 = \"this is a test string\"\n",
    "\n",
    "# open a file for write\n",
    "fo = open(\"test.dat\",\"w\")  #Here, \"w\" means write\n",
    "fo.write(str1)\n",
    "fo.close()\n",
    "\n",
    "# you can check the existence of a file called \"test.dat\" in the same folder as this notebook\n",
    "\n",
    "# open the file for read\n",
    "fi = open(\"test.dat\",\"r\")  #Here, \"r\" means read\n",
    "str2 = fi.read()   #read the content of the file and assign it to str2\"\n",
    "print(str2)\n",
    "fi.close()\n"
   ]
  },
  {
   "cell_type": "markdown",
   "metadata": {},
   "source": [
    "## Functions and modules\n",
    "\n",
    "A function is a set of code instructions grouped together which can be called by others. Caller can pass data to the function and receive result back from the function. Before you can use a function, it should be firstly defined with the \"def\" keyword."
   ]
  },
  {
   "cell_type": "code",
   "execution_count": null,
   "metadata": {
    "collapsed": true
   },
   "outputs": [],
   "source": [
    "def my_function(a,b): # values of a and b are passed into the function\n",
    "    return a**2 + b**2\n",
    "\n",
    "a = 2.0\n",
    "b = 3.0\n",
    "c = my_function(a,b)  #call the defined function\n",
    "print(\"c=a**2+b**2= \", c)\n"
   ]
  },
  {
   "cell_type": "markdown",
   "metadata": {},
   "source": [
    "A special function in Python is call the \"lambda\" function which is a simple anonymous function. It can take any number of arguments, but can only have one experssion. The example above can be equivalently defined using the \"lambda\" statement as:"
   ]
  },
  {
   "cell_type": "code",
   "execution_count": null,
   "metadata": {
    "collapsed": true
   },
   "outputs": [],
   "source": [
    "a = 2.0\n",
    "b = 3.0\n",
    "c = lambda a,b : a**2+b**2\n",
    "\n",
    "print(\"c=a**2+b**2= \", c(a,b))\n"
   ]
  },
  {
   "cell_type": "markdown",
   "metadata": {},
   "source": [
    "If one further groups functions together and put them into a python file, then the resulted file is a module. Modules in Python are equivalent of libraries in other programming languages such as C and C++. For example, the provided file \"test_module.py\" contains the function we defined in previous example. The name of the module is the same as the name of the file. We can now load the module and call the function within as:"
   ]
  },
  {
   "cell_type": "code",
   "execution_count": null,
   "metadata": {
    "collapsed": true
   },
   "outputs": [],
   "source": [
    "from test_module import *\n",
    "\n",
    "a = 2.0\n",
    "b = 3.0\n",
    "\n",
    "c = my_function(a,b)  #call the defined function\n",
    "print(\"c=a**2+b**2= \", c)"
   ]
  },
  {
   "cell_type": "markdown",
   "metadata": {},
   "source": [
    "For an existing module, you can examine its contents with the \"dir()\" method. For example, the following examines the contents and the result shows the \"my_function\" function in addition to several other attributes. For the exact meaning of each of these attributes, please consult the Python documentation."
   ]
  },
  {
   "cell_type": "code",
   "execution_count": null,
   "metadata": {
    "collapsed": true
   },
   "outputs": [],
   "source": [
    "import test_module\n",
    "dir(test_module)"
   ]
  },
  {
   "cell_type": "markdown",
   "metadata": {},
   "source": [
    "The power of Python is mainly due to the vast number of modules people developed which greatly extend the functionality of Python. \n",
    "\n",
    "Python itself comes with many useful modules. For example, core Python only comes with limited number of mathematical functions, for example \"abs()\", \"min()\", and \"max()\". Most other math functions are provided in the \"math\" module. To use these functions, you have to load the \"math\" module explicitly:"
   ]
  },
  {
   "cell_type": "code",
   "execution_count": null,
   "metadata": {
    "collapsed": true
   },
   "outputs": [],
   "source": [
    "from math import *\n",
    "\n",
    "print(\"acos(pi/6) = \", acos(pi/6.0))  # the constant pi is indeed defined the math module "
   ]
  },
  {
   "cell_type": "markdown",
   "metadata": {},
   "source": [
    "Another very useful module is \"numpy\", which is used by many scientific computing code written in Python. The core functionality of \"numpy\" is that it provides a high-performance multidimensional array object and functions to work on these arrays. More details can be found on its website at [numpy.org](http://www.numpy.org).\n",
    "\n",
    "The numpy array is similar to list. But numpy array should have all elements of the same type, and is indexed by a tuple of nonnegative integers. The rank of an numpy array is the number of dimensions and its shape is defined as a tuple containing the size of the array in each dimension. Please note that numpy's array does not have the attribute called \"rank\". Instead it is called \"ndim\".\n",
    "\n",
    "The following demonstrates how to create, access, modify, and apply operations on numpy arrays."
   ]
  },
  {
   "cell_type": "code",
   "execution_count": null,
   "metadata": {
    "collapsed": true
   },
   "outputs": [],
   "source": [
    "import numpy as np   #import the numpy array and re-name it as np\n",
    "\n",
    "#The first way to create a numpy array is to initialize it with a list\n",
    "avector = np.array([2.0, 3.0, -1.2])      #create a vector: rank 1, shape 3x1\n",
    "print(\"avector =\",avector)                #print the vector\n",
    "print(\"avector.rank = \", avector.ndim)    #print the vector's rank\n",
    "print(\"avector.shape = \", avector.shape)  #print the vector's shape\n",
    "print(\"avector[1] = \", avector[1])        #access the second element of the vector\n",
    "avector[1] = -5.0                         #modify the value of the second element\n",
    "print(\"avector[1] = \", avector[1])        #check the modified value\n",
    "\n",
    "amatrix = np. array([[1.0, 2.0, 3.0],[4.0,5.0,6.0]]) #create a rand 2 array\n",
    "print(\"amatrix =\",amatrix)                #print the array\n",
    "print(\"amatrix.rank = \", amatrix.ndim)    #print the array's rank\n",
    "print(\"amatrix.shape = \", amatrix.shape)  #print the array's shape\n",
    "print(\"amatrix[0,1] = \", amatrix[0,1])    #access the second element on row 1 and column 2\n",
    "amatrix[0,1] = -5.0                       #modify the value of the second element\n",
    "print(\"amatrix[0,1] = \", amatrix[0,1])    #check the modified value\n",
    "\n"
   ]
  },
  {
   "cell_type": "markdown",
   "metadata": {},
   "source": [
    "You can also create/initialize numpy arrays with the libraries several functions, which include \"zeros()\", \"ones()\", \"full()\", and \"eyes()\". The following shows how to use these functions."
   ]
  },
  {
   "cell_type": "code",
   "execution_count": null,
   "metadata": {
    "collapsed": true
   },
   "outputs": [],
   "source": [
    "import numpy as np\n",
    "\n",
    "a = np.eye(3)         # create an identity matrix\n",
    "print(a)  \n",
    "\n",
    "b = np.ones((3,2))    # create an array of all ones\n",
    "print(b)  \n",
    "\n",
    "c = np.zeros((3,3))   # create an array of all zeros\n",
    "print(c)              \n",
    "\n",
    "d = np.full((3,3), 2.1) # create a constant array where the constant is given\n",
    "print(d)               \n",
    "\n",
    "e = np.random.random((3,3))  # create an array filled with random values\n",
    "print(e)                    "
   ]
  },
  {
   "cell_type": "markdown",
   "metadata": {},
   "source": [
    "The third way to create a numpy array is to use the \"arange()\" function, which is similar to the \"range()\" function. However, \"arange()\" returns a numpy array while \"range()\" returns a list."
   ]
  },
  {
   "cell_type": "code",
   "execution_count": null,
   "metadata": {
    "collapsed": true
   },
   "outputs": [],
   "source": [
    "import numpy as np\n",
    "\n",
    "a = np.arange(5)        # create array of integer type because the argument is an integer\n",
    "print(a)  \n",
    "\n",
    "b = np.arange(5.0)      # create array of float type because of the argument is a float\n",
    "print(b) \n",
    "\n",
    "c = np.arange(1.0,6.0,0.5) # create an array starting from 1.0 and ending at 6.0 (excluded) with an increment of 0.5\n",
    "print(c)"
   ]
  },
  {
   "cell_type": "markdown",
   "metadata": {},
   "source": [
    "For numpy arrays, the basic mathematical operations are elementwise, for example \"add\", \"subtract\", \"multiply\", \"divide\", and \"sqrt\". "
   ]
  },
  {
   "cell_type": "code",
   "execution_count": null,
   "metadata": {
    "collapsed": true
   },
   "outputs": [],
   "source": [
    "import numpy as np\n",
    "\n",
    "a = np.array([[1,2],[3,4]]) #create a 2x2 array\n",
    "b = np.array([[5,6],[7,8]]) #create another 2x2 array\n",
    "\n",
    "# Elementwise sum: either use \"+\" or the \"add()\" function. They \n",
    "# produce the same results.\n",
    "print(a + b)\n",
    "print(np.add(a, b))\n",
    "\n",
    "# Elementwise subtraction: either tuse \"-\" or the \"subtract()\" function. \n",
    "# They produce the same results.\n",
    "print(a - b)\n",
    "print(np.subtract(a, b))\n",
    "\n",
    "# Elementwise product: either use \"*\" or the \"multiply()\" fuction. \n",
    "# They produce the same results.\n",
    "print(a * b)\n",
    "print(np.multiply(a, b))\n",
    "\n",
    "# Elementwise division: either use \"/\" or the \"divide()\" function.\n",
    "# They produce the same results.\n",
    "print(a / b)\n",
    "print(np.divide(a, b))\n",
    "\n",
    "# Elementwise square root: use the \"sqrt()\" function.\n",
    "print(np.sqrt(a))"
   ]
  },
  {
   "cell_type": "markdown",
   "metadata": {},
   "source": [
    "Numpy also provides many other useful functions to perform operations on arrays, for example \"diagonal()\", \"trace()\", \"dot()\", \"inner()\", and \"outer()\". The meaning and use of these function can be found in the Numpy documentation. The transpose of an array is simply the \"T\" attribute of the array."
   ]
  },
  {
   "cell_type": "code",
   "execution_count": null,
   "metadata": {
    "collapsed": true
   },
   "outputs": [],
   "source": [
    "import numpy as np\n",
    "\n",
    "a = np.array([[1,2],[3,4]]) #create a 2x2 array\n",
    "print(\"a:\")\n",
    "print(a)\n",
    "print(\"a.T = \")\n",
    "print(a.T)"
   ]
  },
  {
   "cell_type": "code",
   "execution_count": null,
   "metadata": {
    "collapsed": true
   },
   "outputs": [],
   "source": []
  }
 ],
 "metadata": {
  "kernelspec": {
   "display_name": "Python 3",
   "language": "python",
   "name": "python3"
  },
  "language_info": {
   "codemirror_mode": {
    "name": "ipython",
    "version": 3
   },
   "file_extension": ".py",
   "mimetype": "text/x-python",
   "name": "python",
   "nbconvert_exporter": "python",
   "pygments_lexer": "ipython3",
   "version": "3.7.3"
  }
 },
 "nbformat": 4,
 "nbformat_minor": 1
}
