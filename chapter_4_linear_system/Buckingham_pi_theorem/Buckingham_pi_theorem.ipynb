{
 "cells": [
  {
   "cell_type": "markdown",
   "metadata": {},
   "source": [
    "# Buckingham PI theorem for dimensional analysis\n",
    "\n",
    "by Xiaofeng Liu, Ph.D., P.E.  \n",
    "Associate Professor\n",
    "\n",
    "Department of Civil and Environmental Engineering  \n",
    "Institute of Computational and Data Sciences  \n",
    "Penn State University  \n",
    "223B Sackett Building, University Park, PA 16802\n",
    "\n",
    "Web: http://water.engr.psu.edu/liu/"
   ]
  },
  {
   "cell_type": "markdown",
   "metadata": {},
   "source": [
    "In engineering and science, the Buckingham $\\pi$ theroem is an important tool for dimensional analysis. The theorem says that if an equation for a physcial process or phenomenom involves $n$ physical variables and $k$ physical dimensions, then the equation can be made dimensionless with $p=n-k$ dimensionless variables $\\pi_1$, $\\pi_2$, ... $\\pi_p$. Therefore, the Buckingham $\\pi$ theroem is often used in dimensional analysis. By formulating or describing a physical process in dimensionless varibles, we reduce the number of variables, better understand the physics, ease the analysis of data, and help desgin model testing based on similitudes. \n",
    "\n",
    "To determine the dimensionless variables $\\pi_1$, $\\pi_2$, ... $\\pi_p$, there are several methods. One method is simply by inspection, which usually requires some experience. Another method is the exponenent method, which is also called the method of repeating variables. In this example, we show the use of the linear equation system in the exponent method to find the dimensionless variables. \n",
    "\n",
    "The example here is from elemenary fluid mechanics. Often, we need to find the pressure drop per unit length $\\Delta P_l$ along a long, smooth-walled horizontal, circular pipe. There are several steps in the exponent method. \n",
    "\n",
    "* Step 1: list all \"independent\" variables for the problem\n",
    "\\begin{equation}\n",
    "\\Delta P_l = f(D, \\rho, \\mu, V)\n",
    "\\end{equation}\n",
    "where $D$ is the pipe diameter, $\\rho$ is fluid density, $\\mu$ is fluid dynamic viscosity, and $V$ is average fluid velocity in the pipe. \n",
    "\n",
    "* Step 2: express all variables in terms of their basic dimensions (force - $F$, length - $L$, and time - $T$)\n",
    "\\begin{eqnarray}\n",
    "[\\Delta P_l] &=& FL^{-3} \\\\\n",
    "[D] &=& L \\\\\n",
    "[\\rho] &=& FL^{-4}T^2 \\\\\n",
    "[\\mu]  &=& FL^{-2}T \\\\\n",
    "[V] &=& LT^{-1}\n",
    "\\end{eqnarray}\n",
    "\n",
    "* Step 3: determine the number of PI terms. We have three basic dimensions in this problem (force, length, and time). So $k$ = 3. And there are five variables. So $n$ = 5. According to the Buckingham PI theorem, the number of dimensionless PI terms should be $p=n-k=5-3=2$. \n",
    "\n",
    "* Step 4: select \"repeating\" variables from the list of possibilities. The repeating variables will be used to form each PI term and they must be dimensionly independent. The number of repeating varialbes must be the same as the number of dimensions, which is three in this example. \n",
    "\n",
    "In this example, we select $V$, $D$, and $\\rho$ as the repeating variables. \n",
    "\n",
    "* Step 5: form the PI terms by making the remaining variables dimensionless with the repeating variables. \n",
    "\n",
    "\\begin{equation}\n",
    "\\pi_1 = \\Delta P_l D^a V^b \\rho^c\n",
    "\\end{equation}\n",
    "which should be dimensionless. This means \n",
    "\\begin{equation}\n",
    "(FL^{-3}) L^a (LT^{-1})^b (FL^{-4}T^2)^c = F^0 L^0T^0\n",
    "\\end{equation}\n",
    "For $F$: $1+c=0$\n",
    "For $L$: $-3+a+b-4c=0$\n",
    "For $T$: $-b+2c=0$\n",
    "There are three unknows $a$, $b$, and $c$ and three linear equations which can be written in matrix form as\n",
    "\\begin{equation}\n",
    " \\begin{bmatrix}\n",
    "  0 & 0  & 1 \\\\\n",
    "  1 & 1 & -4  \\\\\n",
    "  0 & -1  & 2\n",
    " \\end{bmatrix}\n",
    " \\begin{bmatrix}\n",
    " x_1 \\\\\n",
    " x_2 \\\\\n",
    " x_3\n",
    " \\end{bmatrix}\n",
    "=\n",
    "\\begin{bmatrix}\n",
    "-1 \\\\\n",
    "3 \\\\\n",
    "0\n",
    "\\end{bmatrix} \n",
    "\\end{equation}\n",
    "\n",
    "<img src=\"pressure_drop_in_pipe.png\" width=\"300\"/>\n",
    "<h3 align=\"center\">Figure. Pressure drop per unit lenght in a pipe.</h3> \n",
    "\n",
    "\n",
    "The following code solves the linear equation system."
   ]
  },
  {
   "cell_type": "code",
   "execution_count": 2,
   "metadata": {},
   "outputs": [
    {
     "name": "stdout",
     "output_type": "stream",
     "text": [
      "solution x =  [ 1. -2. -1.]\n"
     ]
    }
   ],
   "source": [
    "import numpy as np\n",
    "\n",
    "A = np.zeros((3,3))\n",
    "A[0,0] = 0\n",
    "A[0,1] = 0\n",
    "A[0,2] = 1\n",
    "A[1,0] = 1\n",
    "A[1,1] = 1\n",
    "A[1,2] = -4\n",
    "A[2,0] = 0\n",
    "A[2,1] = -1\n",
    "A[2,2] = 2\n",
    "#print(A)\n",
    "           \n",
    "b = np.zeros(3)    \n",
    "b[0] = -1\n",
    "b[1] = 3\n",
    "b[2] = 0\n",
    "\n",
    "x = np.linalg.solve(A,b)      #solve with the \"solve(...)\" function in Numpy.\n",
    "print(\"solution x = \", x)"
   ]
  },
  {
   "cell_type": "markdown",
   "metadata": {},
   "source": [
    "The solution is $a$ = 1, $b$ = -2, and $c$ = 1. Thus, \n",
    "\\begin{equation}\n",
    "\\pi_1 = \\Delta P_l D^a V^b \\rho^c = \\frac{\\Delta P_l D}{\\rho V^2}\n",
    "\\end{equation}\n",
    "\n",
    "Next, repeat the above process for the remaining variables. In this case, the only remaining variable is the dynamic viscosity $\\mu$. So\n",
    "\\begin{equation}\n",
    "\\pi_2 = \\mu D^a V^b \\rho^c \n",
    "\\end{equation}\n",
    "\n",
    "The analysis process is omitted here because it is very simple. The result should be $a$=-1, $b$=-1, and $c$=-1. So \n",
    "\\begin{equation}\n",
    "\\pi_2 = \\mu D^a V^b \\rho^c = \\frac{\\mu}{DV\\rho}=\\frac{1}{Re}\n",
    "\\end{equation}\n",
    "where $Re=\\frac{DV}{\\mu/\\rho}$ is the Reynolds number. \n",
    "\n",
    "\n",
    "* Step 7: express the dimensional analysis result. \n",
    "\n",
    "\\begin{equation}\n",
    "\\pi_1 = \\phi (\\pi_2)\n",
    "\\end{equation}\n",
    "i.e., \n",
    "\\begin{equation}\n",
    "\\frac{\\Delta p_l D}{\\rho V^2} = \\phi \\left(\\frac{1}{Re} \\right)\n",
    "\\end{equation}\n",
    "\n",
    "Since the one divided by a dimensionless variable is still a dimensionless variable. So, the dimensional analysis result can be more conviniently written as \n",
    "\\begin{equation}\n",
    "\\frac{\\Delta P_l D}{\\rho V^2} = \\phi \\left(Re\\right)\n",
    "\\end{equation}\n",
    "\n",
    "In this example, we assume the inner surface of the pipe is perfectly smooth. In reality, the bumpiness of the surface will introduce another variable, i.e., the roughness height $\\epsilon$ into the problem. If we include the roughness into the analysis, it is very easy to either use the formal repeated variable method or simply inspection, the additional PI term should be \n",
    "\\begin{equation}\n",
    "\\pi_3 = \\frac{\\epsilon}{D}\n",
    "\\end{equation}\n",
    "and the dimensional analysis result should be\n",
    "\\begin{equation}\n",
    "\\frac{\\Delta P_l D}{\\rho V^2} = \\phi \\left(Re, \\frac{\\epsilon}{D}\\right)\n",
    "\\end{equation}"
   ]
  },
  {
   "cell_type": "markdown",
   "metadata": {},
   "source": [
    "Although the example shown here is very simple and probably you don't need to use the linear equation system solvers to get the coefficients. But for more complex problem or automation is requried, knowledge about linear equation system is necessary. "
   ]
  },
  {
   "cell_type": "code",
   "execution_count": null,
   "metadata": {},
   "outputs": [],
   "source": []
  }
 ],
 "metadata": {
  "kernelspec": {
   "display_name": "Python 3",
   "language": "python",
   "name": "python3"
  },
  "language_info": {
   "codemirror_mode": {
    "name": "ipython",
    "version": 3
   },
   "file_extension": ".py",
   "mimetype": "text/x-python",
   "name": "python",
   "nbconvert_exporter": "python",
   "pygments_lexer": "ipython3",
   "version": "3.7.3"
  }
 },
 "nbformat": 4,
 "nbformat_minor": 2
}
