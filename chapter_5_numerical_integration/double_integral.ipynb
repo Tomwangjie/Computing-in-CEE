{
 "cells": [
  {
   "cell_type": "markdown",
   "metadata": {},
   "source": [
    "# Numerical double integration\n",
    "\n",
    "by Xiaofeng Liu, Ph.D., P.E.\n",
    "Associate Professor\n",
    "\n",
    "Department of Civil and Environmental Engineering\n",
    "\n",
    "Institute of CyberScience\n",
    "\n",
    "Penn State University \n",
    "\n",
    "223B Sackett Building, University Park, PA 16802\n",
    "\n",
    "Web: http://water.engr.psu.edu/liu/\n",
    "\n",
    "---"
   ]
  },
  {
   "cell_type": "markdown",
   "metadata": {},
   "source": [
    "The following is an implementation of double integration. Trapezoidal rule is used in both directions."
   ]
  },
  {
   "cell_type": "code",
   "execution_count": 37,
   "metadata": {},
   "outputs": [
    {
     "name": "stdout",
     "output_type": "stream",
     "text": [
      "xs =  [-1.  -0.8 -0.6 -0.4 -0.2  0.   0.2  0.4  0.6  0.8  1. ]\n",
      "ys =  [-1.  -0.8 -0.6 -0.4 -0.2  0.   0.2  0.4  0.6  0.8  1. ]\n",
      "result from this program =  3.0824460805504503\n",
      "result from dblquad(...) =  3.060782865853688\n"
     ]
    }
   ],
   "source": [
    "import numpy as np\n",
    "from scipy import integrate\n",
    "import matplotlib.pyplot as plt\n",
    "from math import exp  \n",
    "import sys\n",
    "\n",
    "#define the trapezoial rule: f is the integrand values\n",
    "#h is the segment size, and n is the number of segments \n",
    "def trapezoidal_rule(f, h, n):\n",
    "    s = (f[0] + f[n])\n",
    "    for i in range(1,n):\n",
    "        s = s + 2.0*f[i]\n",
    "    \n",
    "    return s*h/2.0\n",
    "\n",
    "#define the integrand fucntion\n",
    "def integrand_func(x, y): \n",
    "    return pow(pow(x, 2) + pow(y, 2), 0.5) \n",
    "\n",
    "#perform the double integration \n",
    "#The number of grid points in x and y are [0,n] and [0,m], respectively\n",
    "#The lower and upper bound in x and y are [xl,xu] and [yl,yu]\n",
    "def dblIntegral(n, m, xl, xu, yl, yu): \n",
    "    # z stores the fucntion values at grid points \n",
    "    # g stores the integral the integration value corresponding to each y   \n",
    "    z = np.zeros((m+1,n+1))\n",
    "    g = np.zeros(m+1)\n",
    "    \n",
    "    xs = np.linspace(xl,xu,n+1)\n",
    "    ys = np.linspace(yl,yu,m+1)\n",
    "    \n",
    "    print(\"xs = \", xs)\n",
    "    print(\"ys = \", ys)\n",
    "\n",
    "    # calculate the segment size in x and y \n",
    "    delta_x = (xu - xl)/n \n",
    "    delta_y = (yu - yl)/m \n",
    "\n",
    "    # populate the integrand value table \n",
    "    for j in range(0, m+1): \n",
    "        for i in range(0, n+1): \n",
    "            z[j][i] = integrand_func(xs[i],ys[j]) \n",
    "            \n",
    "    #print(\"z = \\n\", z.round(2))        \n",
    "\n",
    "    # integrate with y held constant at each y value \n",
    "    for j in range(0, m+1): \n",
    "        g[j] = trapezoidal_rule(z[j,:],delta_x,n)    \n",
    "\n",
    "    #print(\"g = \\n\", g.reshape(m+1,1).round(2))\n",
    "    \n",
    "    # integrate in y direction with the values calculated above\n",
    "    answer = trapezoidal_rule(g,delta_y,m)\n",
    "    \n",
    "    \n",
    "    return answer \n",
    "\n",
    "# driver Code: main function \n",
    "if __name__ == \"__main__\": \n",
    "\n",
    "    # xl and xu are upper and lower limit of x integral \n",
    "    # yl and yu are upper and lower limit of y integral \n",
    "    # n and m are number of segements in x and y\n",
    "    xl, xu, n = -1, 1, 10\n",
    "    yl, yu, m = -1, 1, 10\n",
    "    \n",
    "    print(\"result from this program = \", dblIntegral(n, m, xl, xu, yl, yu)) \n",
    "    \n",
    "    print(\"result from dblquad(...) = \", (integrate.dblquad(integrand_func,xl,xu,yl,yu))[0])\n",
    "    "
   ]
  },
  {
   "cell_type": "code",
   "execution_count": null,
   "metadata": {},
   "outputs": [],
   "source": []
  }
 ],
 "metadata": {
  "kernelspec": {
   "display_name": "Python 3",
   "language": "python",
   "name": "python3"
  },
  "language_info": {
   "codemirror_mode": {
    "name": "ipython",
    "version": 3
   },
   "file_extension": ".py",
   "mimetype": "text/x-python",
   "name": "python",
   "nbconvert_exporter": "python",
   "pygments_lexer": "ipython3",
   "version": "3.7.3"
  }
 },
 "nbformat": 4,
 "nbformat_minor": 2
}
