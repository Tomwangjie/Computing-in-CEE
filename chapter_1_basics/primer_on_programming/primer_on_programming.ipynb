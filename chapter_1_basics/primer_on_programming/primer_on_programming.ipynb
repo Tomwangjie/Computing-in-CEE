{
 "cells": [
  {
   "cell_type": "markdown",
   "metadata": {},
   "source": [
    "# Introduction to Jupyer Notebook\n",
    "\n",
    "by Xiaofeng Liu, Ph.D., P.E.\n",
    "Associate Professor\n",
    "\n",
    "Department of Civil and Environmental Engineering\n",
    "\n",
    "Institute of Computational and Data Sciences\n",
    "\n",
    "Penn State University\n",
    "\n",
    "223B Sackett Building, University Park, PA 16802\n",
    "\n",
    "Web: http://water.engr.psu.edu/liu/\n",
    "\n",
    "---------------------------------------------------"
   ]
  },
  {
   "cell_type": "code",
   "execution_count": 1,
   "metadata": {},
   "outputs": [
    {
     "name": "stdout",
     "output_type": "stream",
     "text": [
      "Start to load preamble.\n",
      "Finished loading preamble.\n"
     ]
    }
   ],
   "source": [
    "#Do not change this cell and the next one. They are for setting things up.\n",
    "\n",
    "#make plots inline (instead of as a pop up window)\n",
    "%matplotlib inline\n",
    "\n",
    "#import the preamble in the parent directory\n",
    "import sys\n",
    "sys.path.append(\"../../\")\n",
    "from preamble import *\n",
    "\n",
    "from IPython.display import display, HTML"
   ]
  },
  {
   "cell_type": "markdown",
   "metadata": {},
   "source": [
    "The following is for the setup of writing equations with Latex."
   ]
  },
  {
   "cell_type": "code",
   "execution_count": 4,
   "metadata": {},
   "outputs": [
    {
     "data": {
      "application/javascript": [
       "MathJax.Hub.Config({\n",
       "    TeX: { equationNumbers: { autoNumber: \"AMS\" } }\n",
       "});\n"
      ],
      "text/plain": [
       "<IPython.core.display.Javascript object>"
      ]
     },
     "metadata": {},
     "output_type": "display_data"
    }
   ],
   "source": [
    "%%javascript\n",
    "MathJax.Hub.Config({\n",
    "    TeX: { equationNumbers: { autoNumber: \"AMS\" } }\n",
    "});"
   ]
  },
  {
   "cell_type": "markdown",
   "metadata": {},
   "source": [
    "A Jupyter Notebook is made of cells. There are two important cell types:\n",
    "\n",
    "### Markdown\n",
    "\n",
    "- Markdown cells are for documentation. \n",
    "- They use the simple markdown language.\n",
    "- You can use Latex for math typing. \n",
    "\n",
    "Here are some examples of markdown elements:\n",
    "\n",
    "- For text, just type. \n",
    "- For equations or symbols, you can use Latex (need the Latex system to be setup properly). Equations can be \"inline\" (within the text), for example $E=MC^2$, or a standalone equation:\n",
    "\\begin{equation}\n",
    "\\frac{dv}{dt} = g - \\frac{cv}{m}\n",
    "\\end{equation}\n",
    "\n",
    "\n",
    "### Code\n",
    "\n",
    "\"code\" cell is where the Python code is written and executed.\n",
    "\n",
    "#### Here are some quick tips for you to quickly start using Jupyter Notebook cells:\n",
    "\n",
    "- How to edit a cell: simply double click the cell.\n",
    "\n",
    "- How to execute a cell (to render a markdown cell or execute the python code in a code cell): Shift+Enter while the cell is selected and in editing mode. You can also use the \"Cell\" menu or the \"Run\" toolbar.\n",
    "\n",
    "- How to add and delete cells: use the menu \"Edit\" or the \"insert\" and \"cut\" toolbar. "
   ]
  },
  {
   "cell_type": "markdown",
   "metadata": {},
   "source": [
    "## Launch and run Jupyter Notebook"
   ]
  },
  {
   "cell_type": "markdown",
   "metadata": {},
   "source": [
    "Jupyter runs on a web browser. To launch, simply click the **Launch** under **Jupyter Notebook** in Anaconda Navigator shown in Figure 1. \n",
    "\n",
    "<img src=\"Jupyter_Launch.png\" width=\"300\"/>\n",
    "<h3 align=\"center\">Figure 1. Jupyter Notebook Launch button.</h3> \n",
    "\n",
    "It will bring up your default web browser. On my computer, it shows the following which is a Dashboard where you see and manange all your notebooks:\n",
    "\n",
    "<img src=\"Jupyter_browser_screen.png\" width=\"500\"/>\n",
    "<h3 align=\"center\">Figure 2. Jupyter Notebook in web browser.</h3> \n",
    "\n",
    "You may notice that the address bar in your web browser may show an address like **http://localhost:8888**. This means everything you do now is through your local computer. Jupyter Notebook is a web app and when you launch it, you basically start a local Python server which serves the Jupyter Notebook app in your web browser. Since it is a web app, Jupyter Notebook service also be started on a remote server and users can simply connect to the server with a web browser. \n",
    "\n",
    "In the Dashboard, you can navigate to the directory (folder) you want to work on. Then, you can either click and open an existing notebook (notice the files with the extenion **.ipynb**), or create a new one. To create a new notebook, click <kbd>New</kbd>-><kbd>Python 3</kbd>:\n",
    "\n",
    "<img src=\"create_new_notebook.png\" width=\"200\"/>\n",
    "<h3 align=\"center\">Figure 3. Creation of a new Python 3 notebook.</h3> \n",
    "\n",
    "A new tab will show in your web browser which is the starting point for you to create a new notebook:\n",
    "<img src=\"new_notebook.png\" width=\"800\"/>\n",
    "<h3 align=\"center\">Figure 4. The starting of a new notebook in web browser.</h3> \n",
    "\n",
    "THe following is short video demonstration on how to open an existing notebook or create a new one."
   ]
  },
  {
   "cell_type": "code",
   "execution_count": 4,
   "metadata": {},
   "outputs": [
    {
     "data": {
      "text/html": [
       "\n",
       "<div style=\"position:relative;padding-top:56.25%;\">\n",
       "  <iframe src=\"https://www.youtube.com/embed/jvrJRwaLSFw\" frameborder=\"0\" allowfullscreen\n",
       "    style=\"position:absolute;top:0;left:0;width:100%;height:100%;\"></iframe>\n",
       "</div>\n"
      ],
      "text/plain": [
       "<IPython.core.display.HTML object>"
      ]
     },
     "execution_count": 4,
     "metadata": {},
     "output_type": "execute_result"
    }
   ],
   "source": [
    "HTML(\"\"\"\n",
    "<div style=\"position:relative;padding-top:56.25%;\">\n",
    "  <iframe src=\"https://www.youtube.com/embed/jvrJRwaLSFw\" frameborder=\"0\" allowfullscreen\n",
    "    style=\"position:absolute;top:0;left:0;width:100%;height:100%;\"></iframe>\n",
    "</div>\n",
    "\"\"\")"
   ]
  },
  {
   "cell_type": "markdown",
   "metadata": {},
   "source": [
    "To learn the details about Jupyter Notebook, you can simply search on the Internet with the keywords **Jupyter Notebook tutorials**. You will find many many good tutorial webpages, lecture notes, and even Youtube videos. For example,\n",
    "\n",
    "* [Jupyter Notebook Documentation](https://jupyter-notebook.readthedocs.io/en/stable/)\n",
    "* [Data Camp](https://www.datacamp.com/community/tutorials/tutorial-jupyter-notebook)"
   ]
  },
  {
   "cell_type": "markdown",
   "metadata": {},
   "source": [
    "### What is in a Jupyter Notebook?"
   ]
  },
  {
   "cell_type": "markdown",
   "metadata": {},
   "source": [
    "A Jupypter notebook (e.g., **test.ipynb**) is simply a text file which has all the contents of the notebook. The text file is in a format called [JSON (JavaScript Object Notation)](https://www.json.org). According to its website, it is\n",
    ">a lightweight data-interchange format. It is easy for humans to read and write. It is easy for machines to parse and generate.\n",
    "\n",
    "In case you are curious what it really looks like, you can create and then open one notebook with a text editor of your choise. An example is shown below:\n",
    "\n",
    "<img src=\"ipynb_text.png\" width=\"400\" />\n",
    "<h3 align=\"center\">Figure 5. Content of a simple notebook.</h3> \n",
    "\n",
    "Most of time, you don't need to concern about what exactly is going on in the ipynb text file because Jupyter provides a graphical interface for you to edit its content. \n"
   ]
  },
  {
   "cell_type": "markdown",
   "metadata": {
    "collapsed": true
   },
   "source": [
    "### Some tips on the use of Jupyter Notebook\n",
    "\n",
    "These tips may increase your speed and comfort in using Jupyter Notebook.\n",
    "\n",
    "* Execute a cell by pressing <kbd>Shift</kbd>+<kbd>Enter</kbd>. It will execute the current cell and create a new cell below it (add animation). Don't forgot to run the whole notebook if necessary. For example, current cell may depend on variables or logics defined in previous cells. \n",
    "* Code auto-completion with the <kbd>Tab</kbd> key.\n",
    "* Exam a module with question mark \"?\".\n",
    "* Organize your notebook into parts. Don't put all your code into one single cell. This is one fundamental difference between Jupyter Notebook and Python Integrated Development Environments (IDEs). To make your code more easily to be understood by others and older you in the future. One downside is that sometime you may just run the current cell and forget to run other parts which are relevant for the current one. "
   ]
  },
  {
   "cell_type": "code",
   "execution_count": 5,
   "metadata": {},
   "outputs": [],
   "source": [
    "import numpy"
   ]
  },
  {
   "cell_type": "code",
   "execution_count": 6,
   "metadata": {},
   "outputs": [],
   "source": [
    "numpy?"
   ]
  },
  {
   "cell_type": "code",
   "execution_count": null,
   "metadata": {},
   "outputs": [],
   "source": []
  }
 ],
 "metadata": {
  "kernelspec": {
   "display_name": "Python 3",
   "language": "python",
   "name": "python3"
  },
  "language_info": {
   "codemirror_mode": {
    "name": "ipython",
    "version": 3
   },
   "file_extension": ".py",
   "mimetype": "text/x-python",
   "name": "python",
   "nbconvert_exporter": "python",
   "pygments_lexer": "ipython3",
   "version": "3.7.3"
  }
 },
 "nbformat": 4,
 "nbformat_minor": 1
}
