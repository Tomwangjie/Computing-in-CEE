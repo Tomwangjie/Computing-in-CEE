{
 "cells": [
  {
   "cell_type": "markdown",
   "metadata": {},
   "source": [
    "# Basics of computers\n",
    "\n",
    "by Xiaofeng Liu, Ph.D., P.E.\n",
    "Associate Professor\n",
    "\n",
    "Department of Civil and Environmental Engineering\n",
    "\n",
    "Institute of Computational and Data Sciences\n",
    "\n",
    "Penn State University\n",
    "\n",
    "223B Sackett Building, University Park, PA 16802\n",
    "\n",
    "Web: http://water.engr.psu.edu/liu/\n",
    "\n",
    "---------------------------------------------------"
   ]
  },
  {
   "cell_type": "code",
   "execution_count": 1,
   "metadata": {},
   "outputs": [
    {
     "name": "stdout",
     "output_type": "stream",
     "text": [
      "Start to load preamble.\n",
      "Finished loading preamble.\n"
     ]
    }
   ],
   "source": [
    "#Do not change this cell and the next one. They are for setting things up.\n",
    "\n",
    "#make plots inline (instead of as a pop up window)\n",
    "%matplotlib inline\n",
    "\n",
    "#import the preamble in the parent directory\n",
    "import sys\n",
    "sys.path.append(\"../../\")\n",
    "from preamble import *\n",
    "\n",
    "from IPython.display import display, HTML"
   ]
  },
  {
   "cell_type": "markdown",
   "metadata": {},
   "source": [
    "The following is for the setup of writing equations with Latex."
   ]
  },
  {
   "cell_type": "code",
   "execution_count": 4,
   "metadata": {},
   "outputs": [
    {
     "data": {
      "application/javascript": [
       "MathJax.Hub.Config({\n",
       "    TeX: { equationNumbers: { autoNumber: \"AMS\" } }\n",
       "});\n"
      ],
      "text/plain": [
       "<IPython.core.display.Javascript object>"
      ]
     },
     "metadata": {},
     "output_type": "display_data"
    }
   ],
   "source": [
    "%%javascript\n",
    "MathJax.Hub.Config({\n",
    "    TeX: { equationNumbers: { autoNumber: \"AMS\" } }\n",
    "});"
   ]
  },
  {
   "cell_type": "markdown",
   "metadata": {},
   "source": [
    "In order to really appreciate the power of computing, it is essential to understand the inner workings of computers. This part will introduce the basics of computer, including both hardward and software. The purpose is that at the end when you run your computer code, you know what the computer is doing. You may have learned most of content of this part. In this case, you can skip this part. Otherwise, if you are not familiar or you need a refresher, this part will help you get rid of that feeling of mystery about a computer and boost your confidence when you instruct the computer to run your code. \n",
    "\n",
    "It is in no way that this short introduction will make you a computer expert. We will only cover enough for the purpose of this book.\n",
    "\n"
   ]
  },
  {
   "cell_type": "markdown",
   "metadata": {},
   "source": [
    "## What is a computer?\n",
    "\n",
    "According to wikipedia, computer is defined as \"a machine that can be instructed to carry out sequences of arithmetic or logical operations automatically via computer programming\". This definition fits very well in the context of this book. The computing methods we will introduce are made of sequences of arithmetic or logical operations, which will be implemented with the Python programming language and carried out by a computer.\n",
    "\n",
    "When we talk about a computer, we may think about a physical machine, e.g., laptop, desktop, or high performance computer. In fact, a computer is made of both hardware and software. \n",
    "\n",
    "### Hardware\n",
    "Computer hardware is the collective term for all the physical components of a computer. The design of computers has evolved over time. In its earlist form, a computer had fixed programs, which means the functionality of a computer at that time can not be easily changed. For fixed program computers, to change their functionality, the machine needed to be rewired or their programs needed to be redesigned. That is much like the calculators today. \n",
    "\n",
    "Nowaday computers are modeled after the idea descrbied in 1945 by mathematician John von Newman, who participated in the Manhattan Project at the Los Alamos National Laboratory. The basic idea is that the programs are stored in the memory of a computer and they can be changed. The hardward architecture of a modern computer is shown in the following figure. It consists of:\n",
    "- Central Processor Unit (CPU): the brain of a computer which executes instructions and processes data. CPUs typically have\n",
    "    - an Arithmetic Logic Unit (ALU) which carreis out arithmetic and logic operations, such as addition, subtraction, multiplication, division, \"and\", \"or\", and \"not\". \n",
    "    - registers which are the memory on CPU. The temporarily stores instructions and data for AlU to execute and work on.\n",
    "    - a control unit which coordinates the working of all components on CPU, such as getting instruction and data from main memory to CPU, execution of instructions, etc. \n",
    "- Memory which is also called \"main memory\" or \"primary memory\". It is an internal, short-term storage for relatively quick access (in comparison to accesing data on hard disk, for example). Memory is made of \"two-state\" or \"binary\" devices which store only \"0\" or \"1\" (\"on\" or \"off\" indeed). Memory is used to store data and programming instructions as sequences of binary digits. When a program is executed, it needs to be firstly loaded into memory. There are two types of memories:\n",
    "    - Random Access Memory (RAM) which can read/write data and each store location has its address. \n",
    "    - Read Only Memory (ROM) which can only be read. Its ussage include the storage of basic operating system data. \n",
    "    \n",
    "    Data in RAM are temporary. When you turn off your computer, data in memory will be lost. In contrast, data on hard drive or ROM will be preserved even you turn off your computer. You can think of RAM as empty pages on which you can write, erase, and re-write your instructions and data for the computer to execute and use. \n",
    "    \n",
    "    Storage of memory and hard drive are both measured in bytes: KB, MB, GB, TB, etc. Management of memory is through operating system (OS; Windows, Mac OS, Linux, or Android). A programmer needs to consider how to store their data in memory, request allocation of memory, how to use it, and release memory when it is not needed anynmore. In this book, since we use the high level programming language Python, we seldon have to worry about memory manangement, which has been taken care of by Python itself. Indeed, the core of Python is written in C and all the low level memory management (allocation and release) is done with C. \n",
    "     \n",
    "    When we use Python for the purpose of learning computing method, we do not directly deal with memory manangement. This does not mean we should not care. As your level of Python promgramming and usage gets more advanced, you may encounter some problems or errors related to memory. For example, when you call functions in a Python library, they may throw errors stating something related to memory. Common errors in programs related to memory include:\n",
    "    - segmentation fault: when a program tries to access memory which it does not have permission to access. Usually OS should be able to catch this and terminate the program.\n",
    "    - memory leak: a program forgets to release back the memory when it is done; the computer may run of memory with time.\n",
    "    - arithmetic overflow: use the allocated memory space to store value larger than it allows. \n",
    "    \n",
    "- Storage such as hard drive.\n",
    "- Input / Output devices such as mouse, keyboard, monitor, and printer. \n",
    "- Busses which are like highways which connects between different components in a computer. They are the communiction linkage for data transfer. For example, the data moving back and forth between RAM and CPU need to go through the buses. There are three different buses, i.e., control bus, data bus, and address bus, which are used to transfer different types of data.  \n",
    "\n",
    "<img src=\"computer_architecture.png\" width=\"400\"/>\n",
    "<h3 align=\"center\">Figure. Modern computer architecture.</h3> \n",
    "\n",
    "#### Digital vs. analog data\n",
    "\n",
    "We all know we live in the digital age because modern computers are all digital, which is in contrast to analog computers. It is benefitial to review these concepts. \n",
    "- Digital data are discrete and discontinuous. Modern computers only understand digital data, no matter the real data are discrete or continuous. Examples of discrete or discontinuous data are the number of students in class or the status of a light switch \"on\" and \"off\".\n",
    "- Analog data vary continuously within a range, for example, temperature, height, speed, and force.\n",
    "\n",
    "So how do computer understand and represent analog data? The solution is analog to digital conversion (ADC). If you have performed laboratory experiments and used some digital measurement device to measure things like temporatrue and weight, you have used ADC already (see the figure below). Another example is the microphone of your computer which picks up the sound (an analog signal) and then converts it a digital signal so it can be stored, transmitted, and replayed. \n",
    "\n",
    "<img src=\"ADC.png\" width=\"600\"/>\n",
    "<h3 align=\"center\">Figure. Conversion of analog data to digital data.</h3> \n",
    "\n",
    "There are different ways to digitize and represent data (information). In other word, there are different kind of digital data. Most computers only understand one kind of digital data and that is binary data, which are \"0\" and \"1\" number sequence. Each \"0\" or \"1\" is a \"bit\" (**b**inary un**it**). You may also heard about quantum computing, which uses quantum bit or \"qubit\". \"qubit\" has the states of \"0\", \"1\", or the superposition of the two. If quantum computers become like the main binary computers used today, almost all the computing methods we introduce in this book may become obsolete or need to be re-desgined. But before the science fiction-like quantum computer becomes a household electronic gadget, we will focus on what we have today, the binary digital computers. \n",
    "\n",
    "Digital data are fed into CPUs for processing. A specific CPU can only handle certain bits of data at a time, e.g., 16 bits, 32 bits, or 64 bits. For example, nowadays the main CPU manufactures Intel and AMD both produce 64-bit CPUs. \n",
    "\n",
    "The size (amount) of digital data is measured with digital units. Commonly used digitial data units are as follows:\n",
    "\n",
    "| bits        | Example     | Name     |\n",
    "| :---        |    :----:   |          ---: |\n",
    "|    1 bit | 0 or 1 | bit ($2^1$=2) |\n",
    "|    8 bits | 01100101 | byte ($2^8$=256)  |\n",
    "|    16 bits | 0110010101100101 | word ($2^{16}$=65,536)  |    \n",
    "|    32 bits | 011001010...1100101 (32 bits) | single ($2^{32}$)  |        \n",
    "|    64 bits | 0110010101100...01100101 (64 bits) |  double ($2^{64}$)  |        \n",
    "\n",
    "Among all these units, \"byte\" is most commonly used, which means multiples of bytes are used to measure the size of digital data:\n",
    "\n",
    "| Value        | Symbol     | Name     |\n",
    "| :----:     |    :----:   |          ---: |\n",
    "|    $2^{10}=1024$ | KB  | kilobyte |\n",
    "|    $2^{20}=1024^2$ | MB | megabyte |\n",
    "|    $2^{30}=1024^3$ | GB | gigabyte |\n",
    "|    $2^{40}=1024^4$ | TB | terabyte |\n",
    "|    $2^{50}=1024^5$ | PB | petabyte |                \n",
    "|   ... | ... | ... |\n",
    "\n",
    "\n",
    "### Software\n",
    "\n",
    "Hardware is only a collection of electronical and mechanical components. Without software, a computer is just a metal box. Software is a collective term for computer instructions which are designed to perform certain tasks. Software includes It includes both Operation System (OS) software and application software. The following figures shows the relationship between software and hardware. \n",
    "\n",
    "<img src=\"OS.png\" width=\"400\"/>\n",
    "<h3 align=\"center\">Figure. Software (operating system and applications) in the hierarchy of a computer system.</h3> \n",
    "\n",
    "An operating system is a set of programs that manage the operation of a computer. It manages both computer hardware and software. Examples of OS include Microsoft Windows, Mac OS, Linux/Unix, Android, iOS, etc. When a computer is turned on, the OS is first transferred from disk to memory and executed. This process is called \"booting\" or \"rebooting\" if a computer is restarted. \n",
    "\n",
    "Application software are designed for different computing tasks and applications, such as MS Word, Excel, Powerpoint, Matlab, AutoCAD, or any executables such as your first program \"hello_world.exe\". In this course, we will learn how to write application software (code) using Python to solve problems.  "
   ]
  },
  {
   "cell_type": "code",
   "execution_count": null,
   "metadata": {},
   "outputs": [],
   "source": []
  }
 ],
 "metadata": {
  "kernelspec": {
   "display_name": "Python 3",
   "language": "python",
   "name": "python3"
  },
  "language_info": {
   "codemirror_mode": {
    "name": "ipython",
    "version": 3
   },
   "file_extension": ".py",
   "mimetype": "text/x-python",
   "name": "python",
   "nbconvert_exporter": "python",
   "pygments_lexer": "ipython3",
   "version": "3.7.3"
  }
 },
 "nbformat": 4,
 "nbformat_minor": 1
}
