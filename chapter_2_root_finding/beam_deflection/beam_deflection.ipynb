{
 "cells": [
  {
   "cell_type": "markdown",
   "metadata": {},
   "source": [
    "# Beam deflection\n",
    "\n",
    "by Xiaofeng Liu, Ph.D., P.E.\n",
    "Associate Professor\n",
    "\n",
    "Department of Civil and Environmental Engineering\n",
    "\n",
    "Institute of Computational and Data Sciences\n",
    "\n",
    "Penn State University\n",
    "\n",
    "223B Sackett Building, University Park, PA 16802\n",
    "\n",
    "Web: http://water.engr.psu.edu/liu/"
   ]
  },
  {
   "cell_type": "code",
   "execution_count": 4,
   "metadata": {},
   "outputs": [],
   "source": [
    "#Do not change this cell. It is for setting things up.\n",
    "\n",
    "#make plots inline\n",
    "%matplotlib inline\n",
    "\n",
    "#import the preamble in the parent directory\n",
    "import sys\n",
    "sys.path.append(\"../../\")\n",
    "from preamble import *"
   ]
  },
  {
   "cell_type": "code",
   "execution_count": 5,
   "metadata": {},
   "outputs": [
    {
     "data": {
      "application/javascript": [
       "MathJax.Hub.Config({\n",
       "    TeX: { equationNumbers: { autoNumber: \"AMS\" } }\n",
       "});\n"
      ],
      "text/plain": [
       "<IPython.core.display.Javascript object>"
      ]
     },
     "metadata": {},
     "output_type": "display_data"
    }
   ],
   "source": [
    "%%javascript\n",
    "MathJax.Hub.Config({\n",
    "    TeX: { equationNumbers: { autoNumber: \"AMS\" } }\n",
    "});"
   ]
  },
  {
   "cell_type": "markdown",
   "metadata": {},
   "source": [
    "## Introduction\n",
    "Beams are used widely structure designs to carry load. In this example, a simply supported beam is under a uniformly distributed load as shown below. \n",
    "\n",
    "<img src=\"beam.png\" width=\"400\"/>\n",
    "\n",
    "<h3 align=\"center\">Figure. A simply supported beam under a uniformly distributed load.</h3> \n",
    "\n",
    "The equation of the deflection curve can be derived from the deflection equation. The deflection curve has the form of\n",
    "\\begin{equation}\n",
    " \\delta = -\\frac{wx}{24 EI} \\left(L^3-2Lx^2 + x^3\\right) \n",
    "\\end{equation}\n",
    "where $w$ is load per unit length (lbf or kN/m), $x$ is the coordinate, $E$ is the modulus of elasticity (psi or MPa), $I$ is the second moment of area (in$^4$ or mm$^4$), $L$ is the length of the beam, and $\\delta$ is the deflection (in or m). Note that $\\delta$ is positive if it is upward.\n",
    "\n",
    "The maximum deflection which should be \n",
    "\\begin{equation}\n",
    "\\delta_{max} = \\frac{5wL^3}{384EI}\n",
    "\\end{equation}\n",
    "\n",
    "In the following example, the parameters have the following values:\n",
    "- $L$ = 1 m\n",
    "- $w$ = 1 kN/m\n",
    "- $E$ = 200 MPa\n",
    "- $I$ = 800000 mm$^4$\n",
    "\n",
    "First we will plot the deflection $\\delta$ as a function of $x$. Then we will find at what location the deflection has a value of 0.04 m. This is essentially to solve for the roots of the fourth-order polynomial in the equation above.  \n",
    "\n",
    "The example shown here may not be complex enough to warrant the use of computing method. Analytical solution exist. However, for more complicated load distribution, analytical solutions do not exisit and computing methods are needed. \n"
   ]
  },
  {
   "cell_type": "code",
   "execution_count": 12,
   "metadata": {},
   "outputs": [
    {
     "name": "stdout",
     "output_type": "stream",
     "text": [
      "The location of the specified deflection with the Bisection method:\n",
      "x =  0.16131913661956787\n"
     ]
    },
    {
     "data": {
      "image/png": "[encoded data removed]",
      "text/plain": [
       "<Figure size 432x288 with 1 Axes>"
      ]
     },
     "metadata": {
      "needs_background": "light"
     },
     "output_type": "display_data"
    },
    {
     "name": "stdout",
     "output_type": "stream",
     "text": [
      "Done!\n"
     ]
    }
   ],
   "source": [
    "import matplotlib.pyplot as plt \n",
    "import numpy as np \n",
    "\n",
    "plt.rc('text', usetex=True)  #allow the use of Latex for math expressions and equations\n",
    "plt.rc('font', family='serif') #specify the default font family to be \"serif\"\n",
    "\n",
    "#a function return the sign of x\n",
    "def sgn(x):\n",
    "    if x > 0:\n",
    "        return 1\n",
    "    elif x < 0:\n",
    "        return -1\n",
    "    else:\n",
    "        return 0\n",
    "\n",
    "#bisect the range (a, b) based on the signs\n",
    "#of f(a), f(b) and f((a+b)/2)\n",
    "def bisect(f,a,b,L,w,E,I,delta):\n",
    "    fa = f(a,L,w,E,I,delta)\n",
    "    fb = f(b,L,w,E,I,delta)\n",
    "    p = (a+b)/2.0\n",
    "    fp = f(p,L,w,E,I,delta)\n",
    "    if sgn(fa) == sgn(fp):\n",
    "        return p, b\n",
    "    else:\n",
    "        return a, p\n",
    "\n",
    "#call the bisection method for n iterations\n",
    "def bisection_iterations(f,L,w,E,I,delta,a,b,eps,Nmax):\n",
    "    #iteration number\n",
    "    n = 0\n",
    "    xr_old = (a+b)/2.0\n",
    "    eps_r = 0.0\n",
    "    while True:\n",
    "        n = n + 1\n",
    "        \n",
    "        if(n > Nmax):\n",
    "            print(\"Maximum iteration number reached!\")\n",
    "            break;\n",
    "            \n",
    "        a,b = bisect(f,a,b,L,w,E,I,delta)\n",
    "        #calculate relative error\n",
    "        xr_new = (a+b)/2.0\n",
    "        eps_r = abs((xr_new-xr_old)/xr_new)*100\n",
    "        #print(\"Iteration %d: eps_r = %.3f\" % (n, eps_r))\n",
    "        if(eps_r < eps): \n",
    "            break;\n",
    "        else: \n",
    "            xr_old = xr_new\n",
    "        \n",
    "    return ((a+b)/2.0),n\n",
    "\n",
    "def f(x,L,w,E,I,delta):\n",
    "    return delta+w*x/24/E/I*(L**3-2*L*x**2+x**3)\n",
    "\n",
    "\n",
    "#define variables\n",
    "L = 1 # m\n",
    "w = 1000 # N/m\n",
    "E = 200E6 # Pa\n",
    "I = 800000E-12 # m$^4$\n",
    "\n",
    "delta = -0.04 # m; desired deflection. Note the negative sign\n",
    "\n",
    "#reasonable bounds for the solution\n",
    "a = 0.0\n",
    "b = 0.5\n",
    "\n",
    "#\n",
    "eps = 1e-4\n",
    "\n",
    "Nmax = 100\n",
    "\n",
    "\n",
    "#plot the deflection function\n",
    "x_plot = np.linspace(0,L,100) # 100 linearly spaced numbers\n",
    "\n",
    "delta_plot = delta - f(x_plot,L,w,E,I,delta)\n",
    "\n",
    "#line plot\n",
    "plt.plot(x_plot, delta_plot, color='red')\n",
    "\n",
    "x,n = bisection_iterations(f,L,w,E,I,delta,a,b,eps,Nmax)\n",
    "\n",
    "print(\"The location of the specified deflection with the Bisection method:\")\n",
    "print(\"x = \", x)\n",
    "\n",
    "#plot the found solution\n",
    "plt.scatter(x, delta, color='blue', marker = 'o', label='solution')\n",
    "\n",
    "#set x and y axes label and font size\n",
    "plt.xlabel('x (m)',fontsize=16)\n",
    "plt.ylabel('$\\delta$ (m)',fontsize=16)\n",
    "\n",
    "#show the ticks on both axes and set the font size \n",
    "plt.tick_params(axis='both', which='major', labelsize=12)\n",
    "\n",
    "#show legend, set its location, font size, and turn off the frame\n",
    "plt.legend(loc='upper center',fontsize=14,frameon=False)\n",
    "\n",
    "plt.show()\n",
    "\n",
    "print(\"Done!\")"
   ]
  },
  {
   "cell_type": "code",
   "execution_count": null,
   "metadata": {},
   "outputs": [],
   "source": []
  }
 ],
 "metadata": {
  "kernelspec": {
   "display_name": "Python 3",
   "language": "python",
   "name": "python3"
  },
  "language_info": {
   "codemirror_mode": {
    "name": "ipython",
    "version": 3
   },
   "file_extension": ".py",
   "mimetype": "text/x-python",
   "name": "python",
   "nbconvert_exporter": "python",
   "pygments_lexer": "ipython3",
   "version": "3.7.3"
  }
 },
 "nbformat": 4,
 "nbformat_minor": 2
}
